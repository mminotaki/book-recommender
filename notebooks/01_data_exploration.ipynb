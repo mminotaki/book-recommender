{
 "cells": [
  {
   "cell_type": "markdown",
   "id": "5a0833b0",
   "metadata": {},
   "source": [
    "## 01. Data exploration"
   ]
  },
  {
   "cell_type": "code",
   "execution_count": 1,
   "id": "29f38ec7",
   "metadata": {},
   "outputs": [
    {
     "name": "stdout",
     "output_type": "stream",
     "text": [
      "Path to dataset files: /Users/mariaminotaki/.cache/kagglehub/datasets/dylanjcastillo/7k-books-with-metadata/versions/3\n"
     ]
    }
   ],
   "source": [
    "import kagglehub\n",
    "import pandas as pd\n",
    "import seaborn as sns\n",
    "import matplotlib.pyplot as plt\n",
    "import numpy as np\n",
    "import plotly.express as px\n",
    "\n",
    "import sys\n",
    "sys.path.append(\"..\")  # add project root to path\n",
    "\n",
    "from src.data_processing import *\n",
    "\n",
    "\n",
    "path = kagglehub.dataset_download(\"dylanjcastillo/7k-books-with-metadata\")\n",
    "\n",
    "print(\"Path to dataset files:\", path)"
   ]
  },
  {
   "cell_type": "code",
   "execution_count": 2,
   "id": "04215eb2",
   "metadata": {},
   "outputs": [],
   "source": [
    "books = pd.read_csv(f\"{path}/books.csv\")"
   ]
  },
  {
   "cell_type": "markdown",
   "id": "7f43b64e",
   "metadata": {},
   "source": [
    "#### Dataset columns"
   ]
  },
  {
   "cell_type": "code",
   "execution_count": 3,
   "id": "5f80b24e",
   "metadata": {},
   "outputs": [
    {
     "data": {
      "text/plain": [
       "Index(['isbn13', 'isbn10', 'title', 'subtitle', 'authors', 'categories',\n",
       "       'thumbnail', 'description', 'published_year', 'average_rating',\n",
       "       'num_pages', 'ratings_count'],\n",
       "      dtype='object')"
      ]
     },
     "execution_count": 3,
     "metadata": {},
     "output_type": "execute_result"
    }
   ],
   "source": [
    "books.columns"
   ]
  },
  {
   "cell_type": "markdown",
   "id": "bb8622d0",
   "metadata": {},
   "source": [
    "#### Descriptive Statistics"
   ]
  },
  {
   "cell_type": "code",
   "execution_count": 4,
   "id": "a9cf571a",
   "metadata": {},
   "outputs": [
    {
     "data": {
      "text/html": [
       "<div>\n",
       "<style scoped>\n",
       "    .dataframe tbody tr th:only-of-type {\n",
       "        vertical-align: middle;\n",
       "    }\n",
       "\n",
       "    .dataframe tbody tr th {\n",
       "        vertical-align: top;\n",
       "    }\n",
       "\n",
       "    .dataframe thead th {\n",
       "        text-align: right;\n",
       "    }\n",
       "</style>\n",
       "<table border=\"1\" class=\"dataframe\">\n",
       "  <thead>\n",
       "    <tr style=\"text-align: right;\">\n",
       "      <th></th>\n",
       "      <th>count</th>\n",
       "      <th>mean</th>\n",
       "      <th>std</th>\n",
       "      <th>min</th>\n",
       "      <th>25%</th>\n",
       "      <th>50%</th>\n",
       "      <th>75%</th>\n",
       "      <th>max</th>\n",
       "    </tr>\n",
       "  </thead>\n",
       "  <tbody>\n",
       "    <tr>\n",
       "      <th>isbn13</th>\n",
       "      <td>6810.0</td>\n",
       "      <td>9.780677e+12</td>\n",
       "      <td>6.068911e+08</td>\n",
       "      <td>9.780002e+12</td>\n",
       "      <td>9.780330e+12</td>\n",
       "      <td>9.780553e+12</td>\n",
       "      <td>9.780810e+12</td>\n",
       "      <td>9.789042e+12</td>\n",
       "    </tr>\n",
       "    <tr>\n",
       "      <th>published_year</th>\n",
       "      <td>6804.0</td>\n",
       "      <td>1.998630e+03</td>\n",
       "      <td>1.048000e+01</td>\n",
       "      <td>1.853000e+03</td>\n",
       "      <td>1.996000e+03</td>\n",
       "      <td>2.002000e+03</td>\n",
       "      <td>2.005000e+03</td>\n",
       "      <td>2.019000e+03</td>\n",
       "    </tr>\n",
       "    <tr>\n",
       "      <th>average_rating</th>\n",
       "      <td>6767.0</td>\n",
       "      <td>3.930000e+00</td>\n",
       "      <td>3.300000e-01</td>\n",
       "      <td>0.000000e+00</td>\n",
       "      <td>3.770000e+00</td>\n",
       "      <td>3.960000e+00</td>\n",
       "      <td>4.130000e+00</td>\n",
       "      <td>5.000000e+00</td>\n",
       "    </tr>\n",
       "    <tr>\n",
       "      <th>num_pages</th>\n",
       "      <td>6767.0</td>\n",
       "      <td>3.481800e+02</td>\n",
       "      <td>2.423800e+02</td>\n",
       "      <td>0.000000e+00</td>\n",
       "      <td>2.080000e+02</td>\n",
       "      <td>3.040000e+02</td>\n",
       "      <td>4.200000e+02</td>\n",
       "      <td>3.342000e+03</td>\n",
       "    </tr>\n",
       "    <tr>\n",
       "      <th>ratings_count</th>\n",
       "      <td>6767.0</td>\n",
       "      <td>2.106910e+04</td>\n",
       "      <td>1.376207e+05</td>\n",
       "      <td>0.000000e+00</td>\n",
       "      <td>1.590000e+02</td>\n",
       "      <td>1.018000e+03</td>\n",
       "      <td>5.992500e+03</td>\n",
       "      <td>5.629932e+06</td>\n",
       "    </tr>\n",
       "  </tbody>\n",
       "</table>\n",
       "</div>"
      ],
      "text/plain": [
       "                 count          mean           std           min  \\\n",
       "isbn13          6810.0  9.780677e+12  6.068911e+08  9.780002e+12   \n",
       "published_year  6804.0  1.998630e+03  1.048000e+01  1.853000e+03   \n",
       "average_rating  6767.0  3.930000e+00  3.300000e-01  0.000000e+00   \n",
       "num_pages       6767.0  3.481800e+02  2.423800e+02  0.000000e+00   \n",
       "ratings_count   6767.0  2.106910e+04  1.376207e+05  0.000000e+00   \n",
       "\n",
       "                         25%           50%           75%           max  \n",
       "isbn13          9.780330e+12  9.780553e+12  9.780810e+12  9.789042e+12  \n",
       "published_year  1.996000e+03  2.002000e+03  2.005000e+03  2.019000e+03  \n",
       "average_rating  3.770000e+00  3.960000e+00  4.130000e+00  5.000000e+00  \n",
       "num_pages       2.080000e+02  3.040000e+02  4.200000e+02  3.342000e+03  \n",
       "ratings_count   1.590000e+02  1.018000e+03  5.992500e+03  5.629932e+06  "
      ]
     },
     "execution_count": 4,
     "metadata": {},
     "output_type": "execute_result"
    }
   ],
   "source": [
    "books.describe().T.round(2)"
   ]
  },
  {
   "cell_type": "markdown",
   "id": "b51b3d8e",
   "metadata": {},
   "source": [
    "#### Misssing observations"
   ]
  },
  {
   "cell_type": "code",
   "execution_count": 5,
   "id": "e1e82ae3",
   "metadata": {},
   "outputs": [
    {
     "data": {
      "text/plain": [
       "isbn13               0\n",
       "isbn10               0\n",
       "title                0\n",
       "subtitle          4429\n",
       "authors             72\n",
       "categories          99\n",
       "thumbnail          329\n",
       "description        262\n",
       "published_year       6\n",
       "average_rating      43\n",
       "num_pages           43\n",
       "ratings_count       43\n",
       "dtype: int64"
      ]
     },
     "execution_count": 5,
     "metadata": {},
     "output_type": "execute_result"
    }
   ],
   "source": [
    "# Number of missing values per column\n",
    "books.isnull().sum() "
   ]
  },
  {
   "cell_type": "code",
   "execution_count": 6,
   "id": "6863b121",
   "metadata": {},
   "outputs": [
    {
     "data": {
      "text/plain": [
       "isbn13             0.00\n",
       "isbn10             0.00\n",
       "title              0.00\n",
       "subtitle          65.04\n",
       "authors            1.06\n",
       "categories         1.45\n",
       "thumbnail          4.83\n",
       "description        3.85\n",
       "published_year     0.09\n",
       "average_rating     0.63\n",
       "num_pages          0.63\n",
       "ratings_count      0.63\n",
       "dtype: float64"
      ]
     },
     "execution_count": 6,
     "metadata": {},
     "output_type": "execute_result"
    }
   ],
   "source": [
    "# Percentage of missing values per column\n",
    "(books.isnull().mean() * 100).round(2)"
   ]
  },
  {
   "cell_type": "markdown",
   "id": "59f99011",
   "metadata": {},
   "source": [
    "#### Heatmap of Missing Values"
   ]
  },
  {
   "cell_type": "code",
   "execution_count": 7,
   "id": "9fe2c2b9",
   "metadata": {},
   "outputs": [
    {
     "data": {
      "image/png": "[encoded data removed]",
      "text/plain": [
       "<Figure size 1200x600 with 1 Axes>"
      ]
     },
     "metadata": {},
     "output_type": "display_data"
    }
   ],
   "source": [
    "heatmap_missing_values(books)"
   ]
  },
  {
   "cell_type": "markdown",
   "id": "757c28ec",
   "metadata": {},
   "source": [
    "- The **`subtitle`** column has the highest proportion of missing values.\n",
    "\n",
    "- The columns **`average_rating`**, **`num_pages`**, and **`ratings_count`** show a clear pattern of missingness. This suggests they might originate from a different dataset and could introduce bias.  \n",
    "\n",
    "- For most of the other columns, the missing values appear more random.  "
   ]
  },
  {
   "cell_type": "markdown",
   "id": "d0c8eb3d",
   "metadata": {},
   "source": [
    "<!-- \n",
    "The columns \"average_rating\", \"num_pages\", and \"ratings_count\" show a clear pattern in their missing values, \n",
    "likely because they originate from another dataset. This could introduce bias.  \n",
    "\n",
    "The \"subtitle\" column has the highest number of missing values.  \n",
    "\n",
    "For the other columns, missing values appear more random.  \n",
    "-->\n"
   ]
  },
  {
   "cell_type": "markdown",
   "id": "73813d09",
   "metadata": {},
   "source": [
    "#### Unique values for each column"
   ]
  },
  {
   "cell_type": "code",
   "execution_count": 8,
   "id": "5b756b47",
   "metadata": {},
   "outputs": [
    {
     "data": {
      "text/plain": [
       "isbn13            6810\n",
       "isbn10            6810\n",
       "title             6398\n",
       "subtitle          2009\n",
       "authors           3780\n",
       "categories         567\n",
       "thumbnail         6481\n",
       "description       6474\n",
       "published_year      94\n",
       "average_rating     200\n",
       "num_pages          915\n",
       "ratings_count     3881\n",
       "dtype: int64"
      ]
     },
     "execution_count": 8,
     "metadata": {},
     "output_type": "execute_result"
    }
   ],
   "source": [
    "books.nunique()"
   ]
  },
  {
   "cell_type": "markdown",
   "id": "2720433d",
   "metadata": {},
   "source": [
    "- There are many `categories` represented in the data.  \n",
    "- There are also a large number of unique book `titles`.  "
   ]
  },
  {
   "cell_type": "code",
   "execution_count": 9,
   "id": "56891df7",
   "metadata": {},
   "outputs": [],
   "source": [
    "# Create two new features:\n",
    "# 1. `missing_description`: a binary flag (1 if description is missing, 0 otherwise).\n",
    "# 2. `age_of_book`: calculates the book's age based on its published year (relative to 2025).\n",
    "\n",
    "books[\"missing_description\"] = np.where(books[\"description\"].isna(),1,0)\n",
    "books[\"age_of_book\"] = 2025 - books[\"published_year\"]"
   ]
  },
  {
   "cell_type": "code",
   "execution_count": 10,
   "id": "96906a25",
   "metadata": {},
   "outputs": [
    {
     "data": {
      "image/png": "[encoded data removed]",
      "text/plain": [
       "<Figure size 800x600 with 2 Axes>"
      ]
     },
     "metadata": {},
     "output_type": "display_data"
    }
   ],
   "source": [
    "columns = [\"num_pages\", \"age_of_book\", \"missing_description\", \"average_rating\"]\n",
    "\n",
    "# Using Spearman correlation because of binary data for some columns (Pearson is for continuous data)\n",
    "plot_correlation_matrix(books, columns, method='spearman')"
   ]
  },
  {
   "cell_type": "markdown",
   "id": "a9b7ddba",
   "metadata": {},
   "source": [
    "Check for correlation with the `missing_description` column.\n",
    "\n",
    "No column shows a strong correlation with `missing_description`. For example, if `num_pages` had a correlation of 1.0 or -1.0, we would need to investigate whether shorter or longer books are more likely to have missing descriptions. "
   ]
  },
  {
   "cell_type": "markdown",
   "id": "85464bb9",
   "metadata": {},
   "source": [
    "#### Delete observations with missing values"
   ]
  },
  {
   "cell_type": "code",
   "execution_count": 11,
   "id": "99c2e8f9",
   "metadata": {},
   "outputs": [
    {
     "data": {
      "text/html": [
       "<div>\n",
       "<style scoped>\n",
       "    .dataframe tbody tr th:only-of-type {\n",
       "        vertical-align: middle;\n",
       "    }\n",
       "\n",
       "    .dataframe tbody tr th {\n",
       "        vertical-align: top;\n",
       "    }\n",
       "\n",
       "    .dataframe thead th {\n",
       "        text-align: right;\n",
       "    }\n",
       "</style>\n",
       "<table border=\"1\" class=\"dataframe\">\n",
       "  <thead>\n",
       "    <tr style=\"text-align: right;\">\n",
       "      <th></th>\n",
       "      <th>isbn13</th>\n",
       "      <th>isbn10</th>\n",
       "      <th>title</th>\n",
       "      <th>subtitle</th>\n",
       "      <th>authors</th>\n",
       "      <th>categories</th>\n",
       "      <th>thumbnail</th>\n",
       "      <th>description</th>\n",
       "      <th>published_year</th>\n",
       "      <th>average_rating</th>\n",
       "      <th>num_pages</th>\n",
       "      <th>ratings_count</th>\n",
       "      <th>missing_description</th>\n",
       "      <th>age_of_book</th>\n",
       "    </tr>\n",
       "  </thead>\n",
       "  <tbody>\n",
       "    <tr>\n",
       "      <th>37</th>\n",
       "      <td>9780006906018</td>\n",
       "      <td>000690601X</td>\n",
       "      <td>The Princess of the Chalet School</td>\n",
       "      <td>NaN</td>\n",
       "      <td>Elinor Mary Brent-Dyer</td>\n",
       "      <td>Juvenile Fiction</td>\n",
       "      <td>http://books.google.com/books/content?id=EJcQP...</td>\n",
       "      <td>NaN</td>\n",
       "      <td>2000.0</td>\n",
       "      <td>4.10</td>\n",
       "      <td>159.0</td>\n",
       "      <td>446.0</td>\n",
       "      <td>1</td>\n",
       "      <td>25.0</td>\n",
       "    </tr>\n",
       "    <tr>\n",
       "      <th>60</th>\n",
       "      <td>9780007127740</td>\n",
       "      <td>000712774X</td>\n",
       "      <td>The illustrated man</td>\n",
       "      <td>NaN</td>\n",
       "      <td>Ray Bradbury</td>\n",
       "      <td>Fiction</td>\n",
       "      <td>http://books.google.com/books/content?id=kePql...</td>\n",
       "      <td>NaN</td>\n",
       "      <td>2002.0</td>\n",
       "      <td>4.14</td>\n",
       "      <td>186.0</td>\n",
       "      <td>56781.0</td>\n",
       "      <td>1</td>\n",
       "      <td>23.0</td>\n",
       "    </tr>\n",
       "    <tr>\n",
       "      <th>99</th>\n",
       "      <td>9780020442806</td>\n",
       "      <td>0020442807</td>\n",
       "      <td>The Chronicles of Narnia: Lion, the witch and ...</td>\n",
       "      <td>NaN</td>\n",
       "      <td>Clive Staples Lewis</td>\n",
       "      <td>Fairy tales</td>\n",
       "      <td>NaN</td>\n",
       "      <td>NaN</td>\n",
       "      <td>1978.0</td>\n",
       "      <td>4.26</td>\n",
       "      <td>1425.0</td>\n",
       "      <td>1446.0</td>\n",
       "      <td>1</td>\n",
       "      <td>47.0</td>\n",
       "    </tr>\n",
       "    <tr>\n",
       "      <th>102</th>\n",
       "      <td>9780023513206</td>\n",
       "      <td>0023513209</td>\n",
       "      <td>Reason in History</td>\n",
       "      <td>A General Introduction to the Philosophy of Hi...</td>\n",
       "      <td>Georg Wilhelm Friedrich Hegel</td>\n",
       "      <td>Philosophy</td>\n",
       "      <td>http://books.google.com/books/content?id=BCvcY...</td>\n",
       "      <td>NaN</td>\n",
       "      <td>1953.0</td>\n",
       "      <td>3.64</td>\n",
       "      <td>95.0</td>\n",
       "      <td>430.0</td>\n",
       "      <td>1</td>\n",
       "      <td>72.0</td>\n",
       "    </tr>\n",
       "    <tr>\n",
       "      <th>105</th>\n",
       "      <td>9780026995016</td>\n",
       "      <td>0026995018</td>\n",
       "      <td>Spandau</td>\n",
       "      <td>The Secret Diaries</td>\n",
       "      <td>Albert Speer</td>\n",
       "      <td>History</td>\n",
       "      <td>NaN</td>\n",
       "      <td>NaN</td>\n",
       "      <td>1976.0</td>\n",
       "      <td>4.12</td>\n",
       "      <td>463.0</td>\n",
       "      <td>6.0</td>\n",
       "      <td>1</td>\n",
       "      <td>49.0</td>\n",
       "    </tr>\n",
       "    <tr>\n",
       "      <th>...</th>\n",
       "      <td>...</td>\n",
       "      <td>...</td>\n",
       "      <td>...</td>\n",
       "      <td>...</td>\n",
       "      <td>...</td>\n",
       "      <td>...</td>\n",
       "      <td>...</td>\n",
       "      <td>...</td>\n",
       "      <td>...</td>\n",
       "      <td>...</td>\n",
       "      <td>...</td>\n",
       "      <td>...</td>\n",
       "      <td>...</td>\n",
       "      <td>...</td>\n",
       "    </tr>\n",
       "    <tr>\n",
       "      <th>6787</th>\n",
       "      <td>9783464371640</td>\n",
       "      <td>3464371646</td>\n",
       "      <td>About a Boy</td>\n",
       "      <td>NaN</td>\n",
       "      <td>Nick Hornby</td>\n",
       "      <td>NaN</td>\n",
       "      <td>http://books.google.com/books/content?id=PuDYw...</td>\n",
       "      <td>NaN</td>\n",
       "      <td>2002.0</td>\n",
       "      <td>3.80</td>\n",
       "      <td>256.0</td>\n",
       "      <td>155.0</td>\n",
       "      <td>1</td>\n",
       "      <td>23.0</td>\n",
       "    </tr>\n",
       "    <tr>\n",
       "      <th>6788</th>\n",
       "      <td>9783540292128</td>\n",
       "      <td>3540292128</td>\n",
       "      <td>Enzyme-Catalyzed Synthesis of Polymers</td>\n",
       "      <td>NaN</td>\n",
       "      <td>Shiro Kobayashi;Helmut Ritter;David Kaplan</td>\n",
       "      <td>Science</td>\n",
       "      <td>http://books.google.com/books/content?id=WXOym...</td>\n",
       "      <td>NaN</td>\n",
       "      <td>2006.0</td>\n",
       "      <td>0.00</td>\n",
       "      <td>254.0</td>\n",
       "      <td>0.0</td>\n",
       "      <td>1</td>\n",
       "      <td>19.0</td>\n",
       "    </tr>\n",
       "    <tr>\n",
       "      <th>6798</th>\n",
       "      <td>9787506435673</td>\n",
       "      <td>7506435675</td>\n",
       "      <td>Good Fight</td>\n",
       "      <td>NaN</td>\n",
       "      <td>Judd Winick;Matthew Clark</td>\n",
       "      <td>Juvenile Fiction</td>\n",
       "      <td>http://books.google.com/books/content?id=xGPZA...</td>\n",
       "      <td>Presents the adventures of a new group of hero...</td>\n",
       "      <td>2007.0</td>\n",
       "      <td>NaN</td>\n",
       "      <td>NaN</td>\n",
       "      <td>NaN</td>\n",
       "      <td>0</td>\n",
       "      <td>18.0</td>\n",
       "    </tr>\n",
       "    <tr>\n",
       "      <th>6806</th>\n",
       "      <td>9788185944609</td>\n",
       "      <td>8185944601</td>\n",
       "      <td>Secrets Of The Heart</td>\n",
       "      <td>NaN</td>\n",
       "      <td>Khalil Gibran</td>\n",
       "      <td>Mysticism</td>\n",
       "      <td>http://books.google.com/books/content?id=XcrVp...</td>\n",
       "      <td>NaN</td>\n",
       "      <td>1993.0</td>\n",
       "      <td>4.08</td>\n",
       "      <td>74.0</td>\n",
       "      <td>324.0</td>\n",
       "      <td>1</td>\n",
       "      <td>32.0</td>\n",
       "    </tr>\n",
       "    <tr>\n",
       "      <th>6807</th>\n",
       "      <td>9788445074879</td>\n",
       "      <td>8445074873</td>\n",
       "      <td>Fahrenheit 451</td>\n",
       "      <td>NaN</td>\n",
       "      <td>Ray Bradbury</td>\n",
       "      <td>Book burning</td>\n",
       "      <td>NaN</td>\n",
       "      <td>NaN</td>\n",
       "      <td>2004.0</td>\n",
       "      <td>3.98</td>\n",
       "      <td>186.0</td>\n",
       "      <td>5733.0</td>\n",
       "      <td>1</td>\n",
       "      <td>21.0</td>\n",
       "    </tr>\n",
       "  </tbody>\n",
       "</table>\n",
       "<p>303 rows × 14 columns</p>\n",
       "</div>"
      ],
      "text/plain": [
       "             isbn13      isbn10  \\\n",
       "37    9780006906018  000690601X   \n",
       "60    9780007127740  000712774X   \n",
       "99    9780020442806  0020442807   \n",
       "102   9780023513206  0023513209   \n",
       "105   9780026995016  0026995018   \n",
       "...             ...         ...   \n",
       "6787  9783464371640  3464371646   \n",
       "6788  9783540292128  3540292128   \n",
       "6798  9787506435673  7506435675   \n",
       "6806  9788185944609  8185944601   \n",
       "6807  9788445074879  8445074873   \n",
       "\n",
       "                                                  title  \\\n",
       "37                    The Princess of the Chalet School   \n",
       "60                                  The illustrated man   \n",
       "99    The Chronicles of Narnia: Lion, the witch and ...   \n",
       "102                                   Reason in History   \n",
       "105                                             Spandau   \n",
       "...                                                 ...   \n",
       "6787                                        About a Boy   \n",
       "6788             Enzyme-Catalyzed Synthesis of Polymers   \n",
       "6798                                         Good Fight   \n",
       "6806                               Secrets Of The Heart   \n",
       "6807                                     Fahrenheit 451   \n",
       "\n",
       "                                               subtitle  \\\n",
       "37                                                  NaN   \n",
       "60                                                  NaN   \n",
       "99                                                  NaN   \n",
       "102   A General Introduction to the Philosophy of Hi...   \n",
       "105                                  The Secret Diaries   \n",
       "...                                                 ...   \n",
       "6787                                                NaN   \n",
       "6788                                                NaN   \n",
       "6798                                                NaN   \n",
       "6806                                                NaN   \n",
       "6807                                                NaN   \n",
       "\n",
       "                                         authors        categories  \\\n",
       "37                        Elinor Mary Brent-Dyer  Juvenile Fiction   \n",
       "60                                  Ray Bradbury           Fiction   \n",
       "99                           Clive Staples Lewis       Fairy tales   \n",
       "102                Georg Wilhelm Friedrich Hegel        Philosophy   \n",
       "105                                 Albert Speer           History   \n",
       "...                                          ...               ...   \n",
       "6787                                 Nick Hornby               NaN   \n",
       "6788  Shiro Kobayashi;Helmut Ritter;David Kaplan           Science   \n",
       "6798                   Judd Winick;Matthew Clark  Juvenile Fiction   \n",
       "6806                               Khalil Gibran         Mysticism   \n",
       "6807                                Ray Bradbury      Book burning   \n",
       "\n",
       "                                              thumbnail  \\\n",
       "37    http://books.google.com/books/content?id=EJcQP...   \n",
       "60    http://books.google.com/books/content?id=kePql...   \n",
       "99                                                  NaN   \n",
       "102   http://books.google.com/books/content?id=BCvcY...   \n",
       "105                                                 NaN   \n",
       "...                                                 ...   \n",
       "6787  http://books.google.com/books/content?id=PuDYw...   \n",
       "6788  http://books.google.com/books/content?id=WXOym...   \n",
       "6798  http://books.google.com/books/content?id=xGPZA...   \n",
       "6806  http://books.google.com/books/content?id=XcrVp...   \n",
       "6807                                                NaN   \n",
       "\n",
       "                                            description  published_year  \\\n",
       "37                                                  NaN          2000.0   \n",
       "60                                                  NaN          2002.0   \n",
       "99                                                  NaN          1978.0   \n",
       "102                                                 NaN          1953.0   \n",
       "105                                                 NaN          1976.0   \n",
       "...                                                 ...             ...   \n",
       "6787                                                NaN          2002.0   \n",
       "6788                                                NaN          2006.0   \n",
       "6798  Presents the adventures of a new group of hero...          2007.0   \n",
       "6806                                                NaN          1993.0   \n",
       "6807                                                NaN          2004.0   \n",
       "\n",
       "      average_rating  num_pages  ratings_count  missing_description  \\\n",
       "37              4.10      159.0          446.0                    1   \n",
       "60              4.14      186.0        56781.0                    1   \n",
       "99              4.26     1425.0         1446.0                    1   \n",
       "102             3.64       95.0          430.0                    1   \n",
       "105             4.12      463.0            6.0                    1   \n",
       "...              ...        ...            ...                  ...   \n",
       "6787            3.80      256.0          155.0                    1   \n",
       "6788            0.00      254.0            0.0                    1   \n",
       "6798             NaN        NaN            NaN                    0   \n",
       "6806            4.08       74.0          324.0                    1   \n",
       "6807            3.98      186.0         5733.0                    1   \n",
       "\n",
       "      age_of_book  \n",
       "37           25.0  \n",
       "60           23.0  \n",
       "99           47.0  \n",
       "102          72.0  \n",
       "105          49.0  \n",
       "...           ...  \n",
       "6787         23.0  \n",
       "6788         19.0  \n",
       "6798         18.0  \n",
       "6806         32.0  \n",
       "6807         21.0  \n",
       "\n",
       "[303 rows x 14 columns]"
      ]
     },
     "execution_count": 11,
     "metadata": {},
     "output_type": "execute_result"
    }
   ],
   "source": [
    "books[(books['description'].isna()) |\n",
    "      (books['num_pages'].isna()) |\n",
    "      (books['published_year'].isna()) |\n",
    "      (books['average_rating'].isna()) \n",
    "      ]"
   ]
  },
  {
   "cell_type": "markdown",
   "id": "fa5f5ebc",
   "metadata": {},
   "source": [
    "There are around 303 observations with missing values, which is less than 5% of the dataset. Therefore, it is safe to remove them without significantly affecting the analysis."
   ]
  },
  {
   "cell_type": "code",
   "execution_count": 12,
   "id": "9153ddce",
   "metadata": {},
   "outputs": [],
   "source": [
    "book_missing = books[~(books['description'].isna()) &\n",
    "      ~(books['num_pages'].isna()) &\n",
    "      ~(books['published_year'].isna()) &\n",
    "      ~(books['average_rating'].isna()) \n",
    "      ]"
   ]
  },
  {
   "cell_type": "code",
   "execution_count": 13,
   "id": "e3d48617",
   "metadata": {},
   "outputs": [
    {
     "data": {
      "text/plain": [
       "(6810, 14)"
      ]
     },
     "execution_count": 13,
     "metadata": {},
     "output_type": "execute_result"
    }
   ],
   "source": [
    "books.shape"
   ]
  },
  {
   "cell_type": "code",
   "execution_count": 14,
   "id": "0e736c36",
   "metadata": {},
   "outputs": [
    {
     "data": {
      "text/plain": [
       "(6507, 14)"
      ]
     },
     "execution_count": 14,
     "metadata": {},
     "output_type": "execute_result"
    }
   ],
   "source": [
    "book_missing.shape"
   ]
  },
  {
   "cell_type": "code",
   "execution_count": 15,
   "id": "b7627752",
   "metadata": {},
   "outputs": [
    {
     "data": {
      "text/html": [
       "<div>\n",
       "<style scoped>\n",
       "    .dataframe tbody tr th:only-of-type {\n",
       "        vertical-align: middle;\n",
       "    }\n",
       "\n",
       "    .dataframe tbody tr th {\n",
       "        vertical-align: top;\n",
       "    }\n",
       "\n",
       "    .dataframe thead th {\n",
       "        text-align: right;\n",
       "    }\n",
       "</style>\n",
       "<table border=\"1\" class=\"dataframe\">\n",
       "  <thead>\n",
       "    <tr style=\"text-align: right;\">\n",
       "      <th></th>\n",
       "      <th>count</th>\n",
       "      <th>mean</th>\n",
       "      <th>std</th>\n",
       "      <th>min</th>\n",
       "      <th>25%</th>\n",
       "      <th>50%</th>\n",
       "      <th>75%</th>\n",
       "      <th>max</th>\n",
       "    </tr>\n",
       "  </thead>\n",
       "  <tbody>\n",
       "    <tr>\n",
       "      <th>isbn13</th>\n",
       "      <td>6507.0</td>\n",
       "      <td>9.780668e+12</td>\n",
       "      <td>5.868404e+08</td>\n",
       "      <td>9.780002e+12</td>\n",
       "      <td>9.780317e+12</td>\n",
       "      <td>9.780552e+12</td>\n",
       "      <td>9.780807e+12</td>\n",
       "      <td>9.789042e+12</td>\n",
       "    </tr>\n",
       "    <tr>\n",
       "      <th>published_year</th>\n",
       "      <td>6507.0</td>\n",
       "      <td>1.998970e+03</td>\n",
       "      <td>9.840000e+00</td>\n",
       "      <td>1.876000e+03</td>\n",
       "      <td>1.997000e+03</td>\n",
       "      <td>2.002000e+03</td>\n",
       "      <td>2.005000e+03</td>\n",
       "      <td>2.019000e+03</td>\n",
       "    </tr>\n",
       "    <tr>\n",
       "      <th>average_rating</th>\n",
       "      <td>6507.0</td>\n",
       "      <td>3.930000e+00</td>\n",
       "      <td>3.200000e-01</td>\n",
       "      <td>0.000000e+00</td>\n",
       "      <td>3.770000e+00</td>\n",
       "      <td>3.950000e+00</td>\n",
       "      <td>4.130000e+00</td>\n",
       "      <td>5.000000e+00</td>\n",
       "    </tr>\n",
       "    <tr>\n",
       "      <th>num_pages</th>\n",
       "      <td>6507.0</td>\n",
       "      <td>3.460700e+02</td>\n",
       "      <td>2.334400e+02</td>\n",
       "      <td>0.000000e+00</td>\n",
       "      <td>2.080000e+02</td>\n",
       "      <td>3.040000e+02</td>\n",
       "      <td>4.180000e+02</td>\n",
       "      <td>3.342000e+03</td>\n",
       "    </tr>\n",
       "    <tr>\n",
       "      <th>ratings_count</th>\n",
       "      <td>6507.0</td>\n",
       "      <td>2.175727e+04</td>\n",
       "      <td>1.402505e+05</td>\n",
       "      <td>0.000000e+00</td>\n",
       "      <td>1.750000e+02</td>\n",
       "      <td>1.081000e+03</td>\n",
       "      <td>6.309500e+03</td>\n",
       "      <td>5.629932e+06</td>\n",
       "    </tr>\n",
       "    <tr>\n",
       "      <th>missing_description</th>\n",
       "      <td>6507.0</td>\n",
       "      <td>0.000000e+00</td>\n",
       "      <td>0.000000e+00</td>\n",
       "      <td>0.000000e+00</td>\n",
       "      <td>0.000000e+00</td>\n",
       "      <td>0.000000e+00</td>\n",
       "      <td>0.000000e+00</td>\n",
       "      <td>0.000000e+00</td>\n",
       "    </tr>\n",
       "    <tr>\n",
       "      <th>age_of_book</th>\n",
       "      <td>6507.0</td>\n",
       "      <td>2.603000e+01</td>\n",
       "      <td>9.840000e+00</td>\n",
       "      <td>6.000000e+00</td>\n",
       "      <td>2.000000e+01</td>\n",
       "      <td>2.300000e+01</td>\n",
       "      <td>2.800000e+01</td>\n",
       "      <td>1.490000e+02</td>\n",
       "    </tr>\n",
       "  </tbody>\n",
       "</table>\n",
       "</div>"
      ],
      "text/plain": [
       "                      count          mean           std           min  \\\n",
       "isbn13               6507.0  9.780668e+12  5.868404e+08  9.780002e+12   \n",
       "published_year       6507.0  1.998970e+03  9.840000e+00  1.876000e+03   \n",
       "average_rating       6507.0  3.930000e+00  3.200000e-01  0.000000e+00   \n",
       "num_pages            6507.0  3.460700e+02  2.334400e+02  0.000000e+00   \n",
       "ratings_count        6507.0  2.175727e+04  1.402505e+05  0.000000e+00   \n",
       "missing_description  6507.0  0.000000e+00  0.000000e+00  0.000000e+00   \n",
       "age_of_book          6507.0  2.603000e+01  9.840000e+00  6.000000e+00   \n",
       "\n",
       "                              25%           50%           75%           max  \n",
       "isbn13               9.780317e+12  9.780552e+12  9.780807e+12  9.789042e+12  \n",
       "published_year       1.997000e+03  2.002000e+03  2.005000e+03  2.019000e+03  \n",
       "average_rating       3.770000e+00  3.950000e+00  4.130000e+00  5.000000e+00  \n",
       "num_pages            2.080000e+02  3.040000e+02  4.180000e+02  3.342000e+03  \n",
       "ratings_count        1.750000e+02  1.081000e+03  6.309500e+03  5.629932e+06  \n",
       "missing_description  0.000000e+00  0.000000e+00  0.000000e+00  0.000000e+00  \n",
       "age_of_book          2.000000e+01  2.300000e+01  2.800000e+01  1.490000e+02  "
      ]
     },
     "execution_count": 15,
     "metadata": {},
     "output_type": "execute_result"
    }
   ],
   "source": [
    "book_missing.describe().T.round(2)"
   ]
  },
  {
   "cell_type": "code",
   "execution_count": 16,
   "id": "a72a80ba",
   "metadata": {},
   "outputs": [
    {
     "data": {
      "text/plain": [
       "isbn13                    0\n",
       "isbn10                    0\n",
       "title                     0\n",
       "subtitle               4226\n",
       "authors                  63\n",
       "categories               33\n",
       "thumbnail               214\n",
       "description               0\n",
       "published_year            0\n",
       "average_rating            0\n",
       "num_pages                 0\n",
       "ratings_count             0\n",
       "missing_description       0\n",
       "age_of_book               0\n",
       "dtype: int64"
      ]
     },
     "execution_count": 16,
     "metadata": {},
     "output_type": "execute_result"
    }
   ],
   "source": [
    "book_missing.isnull().sum()"
   ]
  },
  {
   "cell_type": "code",
   "execution_count": 17,
   "id": "47a4e92d",
   "metadata": {},
   "outputs": [
    {
     "data": {
      "text/html": [
       "<div>\n",
       "<style scoped>\n",
       "    .dataframe tbody tr th:only-of-type {\n",
       "        vertical-align: middle;\n",
       "    }\n",
       "\n",
       "    .dataframe tbody tr th {\n",
       "        vertical-align: top;\n",
       "    }\n",
       "\n",
       "    .dataframe thead th {\n",
       "        text-align: right;\n",
       "    }\n",
       "</style>\n",
       "<table border=\"1\" class=\"dataframe\">\n",
       "  <thead>\n",
       "    <tr style=\"text-align: right;\">\n",
       "      <th></th>\n",
       "      <th>categories</th>\n",
       "      <th>count</th>\n",
       "    </tr>\n",
       "  </thead>\n",
       "  <tbody>\n",
       "    <tr>\n",
       "      <th>0</th>\n",
       "      <td>Fiction</td>\n",
       "      <td>2523</td>\n",
       "    </tr>\n",
       "    <tr>\n",
       "      <th>1</th>\n",
       "      <td>Juvenile Fiction</td>\n",
       "      <td>534</td>\n",
       "    </tr>\n",
       "    <tr>\n",
       "      <th>2</th>\n",
       "      <td>Biography &amp; Autobiography</td>\n",
       "      <td>391</td>\n",
       "    </tr>\n",
       "    <tr>\n",
       "      <th>3</th>\n",
       "      <td>History</td>\n",
       "      <td>258</td>\n",
       "    </tr>\n",
       "    <tr>\n",
       "      <th>4</th>\n",
       "      <td>Literary Criticism</td>\n",
       "      <td>164</td>\n",
       "    </tr>\n",
       "    <tr>\n",
       "      <th>...</th>\n",
       "      <td>...</td>\n",
       "      <td>...</td>\n",
       "    </tr>\n",
       "    <tr>\n",
       "      <th>280</th>\n",
       "      <td>Butlers</td>\n",
       "      <td>1</td>\n",
       "    </tr>\n",
       "    <tr>\n",
       "      <th>279</th>\n",
       "      <td>Gardens</td>\n",
       "      <td>1</td>\n",
       "    </tr>\n",
       "    <tr>\n",
       "      <th>278</th>\n",
       "      <td>Assassins</td>\n",
       "      <td>1</td>\n",
       "    </tr>\n",
       "    <tr>\n",
       "      <th>277</th>\n",
       "      <td>Married people</td>\n",
       "      <td>1</td>\n",
       "    </tr>\n",
       "    <tr>\n",
       "      <th>530</th>\n",
       "      <td>Indic fiction (English)</td>\n",
       "      <td>1</td>\n",
       "    </tr>\n",
       "  </tbody>\n",
       "</table>\n",
       "<p>531 rows × 2 columns</p>\n",
       "</div>"
      ],
      "text/plain": [
       "                    categories  count\n",
       "0                      Fiction   2523\n",
       "1             Juvenile Fiction    534\n",
       "2    Biography & Autobiography    391\n",
       "3                      History    258\n",
       "4           Literary Criticism    164\n",
       "..                         ...    ...\n",
       "280                    Butlers      1\n",
       "279                    Gardens      1\n",
       "278                  Assassins      1\n",
       "277             Married people      1\n",
       "530    Indic fiction (English)      1\n",
       "\n",
       "[531 rows x 2 columns]"
      ]
     },
     "execution_count": 17,
     "metadata": {},
     "output_type": "execute_result"
    }
   ],
   "source": [
    "# Display the most frequent categories, sorted from most to least popular\n",
    "book_missing['categories'].value_counts().reset_index().sort_values(\"count\", ascending=False) "
   ]
  },
  {
   "cell_type": "code",
   "execution_count": 18,
   "id": "dee4f24d",
   "metadata": {},
   "outputs": [
    {
     "data": {
      "application/vnd.plotly.v1+json": {
       "config": {
        "plotlyServerURL": "https://plot.ly"
       },
       "data": [
        {
         "hovertemplate": "Category=%{x}<br>Count=%{y}<extra></extra>",
         "legendgroup": "",
         "marker": {
          "color": "#636efa",
          "pattern": {
           "shape": ""
          }
         },
         "name": "",
         "orientation": "v",
         "showlegend": false,
         "textposition": "auto",
         "type": "bar",
         "x": [
          "Fiction",
          "Juvenile Fiction",
          "Biography & Autobiography",
          "History",
          "Literary Criticism",
          "Philosophy",
          "Comics & Graphic Novels",
          "Religion",
          "Drama",
          "Juvenile Nonfiction",
          "Poetry",
          "Literary Collections",
          "Science",
          "Business & Economics",
          "Social Science",
          "Performing Arts",
          "Cooking",
          "Art",
          "Body, Mind & Spirit",
          "Travel",
          "Computers",
          "Psychology",
          "Political Science",
          "Self-Help",
          "Family & Relationships",
          "Humor",
          "Health & Fitness",
          "Language Arts & Disciplines",
          "Children's stories",
          "Education",
          "Medical",
          "Nature",
          "Adventure stories",
          "Music",
          "Games",
          "English fiction",
          "Sports & Recreation",
          "Detective and mystery stories",
          "Fantasy fiction",
          "American fiction",
          "Foreign Language Study",
          "True Crime",
          "Photography",
          "Reference",
          "Law",
          "Architecture",
          "Science fiction",
          "Americans",
          "Pets",
          "Crafts & Hobbies",
          "Young Adult Fiction",
          "Authors, American",
          "England",
          "Games & Activities",
          "Short stories",
          "Mathematics",
          "Fantasy",
          "City and town life",
          "Life on other planets",
          "American literature",
          "Gardening",
          "Design",
          "Discworld (Imaginary place)",
          "Adultery",
          "Families",
          "FICTION",
          "London (England)",
          "Bail bond agents",
          "Baggins, Frodo (Fictitious character)",
          "Study Aids",
          "British",
          "Technology & Engineering",
          "Boston (Mass.)",
          "Graphic novels",
          "Classical fiction",
          "Blind",
          "Detective and mystery stories, English",
          "House & Home",
          "Fantasy fiction, American",
          "Authors, English",
          "Domestic fiction",
          "Cosmology",
          "Conduct of life",
          "Great Britain",
          "Cats",
          "Cities and towns",
          "Authors",
          "Friendship",
          "Christian life",
          "Boys",
          "Antiques & Collectibles",
          "Fantasy fiction, English",
          "Children's stories, English",
          "Comic books, strips, etc",
          "African Americans",
          "China",
          "Horror tales",
          "Dreams",
          "BIOGRAPHY & AUTOBIOGRAPHY",
          "Continental Op (Fictitious character)",
          "Beowulf",
          "Humorous stories, English",
          "Botswana",
          "Bible",
          "Fairy tales",
          "Bibles",
          "Brothers",
          "United States",
          "Adventure fiction",
          "English drama",
          "History, Modern",
          "Man-woman relationships",
          "Canada",
          "American poetry",
          "Intelligence service",
          "Arctic regions",
          "Children's poetry, American",
          "Magic",
          "American wit and humor, Pictorial",
          "Christianity",
          "Death",
          "Europe",
          "Alienation (Social psychology)",
          "Political science",
          "Science fiction, American",
          "Short stories, American",
          "College teachers",
          "Cowboys",
          "Christmas",
          "Japan",
          "Alcoholics",
          "English language",
          "Los Angeles (Calif.)",
          "Crusades",
          "Ballet",
          "Antiheroes",
          "Folklore",
          "Capitalism",
          "Christmas stories",
          "Arthurian romances",
          "Transportation",
          "JUVENILE FICTION",
          "Cancer",
          "Experimental fiction",
          "Cookery",
          "Horror tales, American",
          "Dent, Arthur (Fictitious character)",
          "Bond, James (Fictitious character)",
          "Belgians",
          "English",
          "Children of the rich",
          "Latin America",
          "Australia",
          "Finance, Personal",
          "Contests",
          "Chocolate",
          "Australian fiction",
          "Arithmetic",
          "Historical fiction",
          "Family life",
          "College attendance",
          "Existential psychotherapy",
          "Grandmothers",
          "Crime investigation",
          "Azerbaijan",
          "Dublin (Ireland)",
          "Physicists",
          "Slave insurrections",
          "Amis, Kingsley",
          "Alzheimer's disease",
          "Dangerously mentally ill",
          "Anger",
          "Comedy",
          "Authors, German",
          "Essays",
          "Atonement",
          "Badgers",
          "Gangs",
          "Pigeons",
          "Human behavior",
          "Electrons",
          "African American plantation owners",
          "Ghost stories, American",
          "Computer programmers",
          "Civil law",
          "Battle, Superintendent (Fictitious character)",
          "Psychoanalysis and religion",
          "Exorcism",
          "Cults",
          "Divorced women",
          "Bracelets",
          "Egyptologists",
          "Demonology",
          "Feature films [DVD]",
          "Horror",
          "Accidents",
          "Animals, Treatment of",
          "World War, 1914-1918",
          "Costume",
          "Literature",
          "War",
          "Igbo (African people)",
          "Actors",
          "Social action",
          "Adirondack Mountains (N.Y.)",
          "Galicia (Spain : Region)",
          "Fairy tales, English",
          "Zero (The number)",
          "Curiosities and wonders",
          "Czechoslovakia",
          "Men",
          "Novelists, American",
          "Confucianism",
          "Vietnam War, 1961-1975",
          "Parenthood",
          "Hallucinogenic drugs",
          "Authors, Italian",
          "Businesswomen",
          "Canadian wit and humor",
          "Obesity",
          "High schools",
          "English poetry",
          "Amour - Ouvrages avant 1800",
          "Candy",
          "Courtship",
          "Dracula, Count (Fictitious character)",
          "Bullying",
          "Baggins, Bilbo (Fictitious character)",
          "Cambridge (Mass.)",
          "Business enterprises",
          "Little, Stuart (Fictitious character)",
          "African Americans in radio broadcasting",
          "Mothers and sons",
          "Albigenses",
          "Sex",
          "Tobruk, Battles of, 1941-1942",
          "Epidemics",
          "Repression (Psychology)",
          "Mentally ill",
          "Handicapped youth",
          "Sea monsters",
          "Adult children",
          "Characters and characteristics in motion pictures",
          "Agriculture",
          "French drama",
          "First loves",
          "Emotional problems",
          "Erinyes (Greek mythology)",
          "Greek drama (Tragedy)",
          "Babytime resource",
          "Art museum curators",
          "Auschwitz (Poland : Concentration camp)",
          "Television",
          "Banks and banking, British",
          "India",
          "Marple, Jane (Fictitious character)",
          "Literary Criticism & Collections",
          "New England",
          "Authors, Canadian",
          "Abandoned mines",
          "Air pilots",
          "Community life",
          "Rock musicians",
          "Bombings",
          "Conspiracies",
          "Brothers and sisters",
          "Egypt",
          "Diary fiction",
          "Catholics",
          "Political leadership",
          "Bosnia and Hercegovina",
          "Mormon fundamentalism",
          "American Wit And Humour",
          "Cocaine industry",
          "Autonomy (Psychology).",
          "Vice-Presidents",
          "Motion picture plays",
          "Dysfunctional families",
          "Antislavery movements",
          "Books",
          "Apartments",
          "Actresses",
          "Germany",
          "Adventure stories, English",
          "Animal sanctuaries",
          "Buddhism",
          "Bereavement",
          "Paris (France)",
          "Human-alien encounters",
          "Amnesia",
          "Cabrillo, Juan (Fictitious character)",
          "Poirot, Hercule (Fictitious character)",
          "Political fiction",
          "Antisemitism",
          "Popular culture",
          "Misogyny",
          "Apartheid",
          "Murder",
          "France",
          "Queens",
          "Children's plays",
          "Fantasy.",
          "Adolescence",
          "Beresford, Tommy (Fictitious character)",
          "Occult fiction",
          "Male friendship",
          "Caterpillars",
          "Ryan, Jack (Fictitious character)",
          "Lecter, Hannibal (Fictitious character)",
          "American drama",
          "Dating (Social customs)",
          "Imaginary wars and battles",
          "Animals, Mythical",
          "Diaries",
          "Babysitters Club (Imaginary organization)",
          "Ireland",
          "Horror stories",
          "Trials (Witchcraft)",
          "Ghost stories",
          "Stone age",
          "Alanna (Fictitious character : Pierce)",
          "Mental illness",
          "Cider house rules. (Motion picture)",
          "Czech fiction",
          "Airplane crash survival",
          "Cooking, French",
          "Dominican Republic",
          "Blake, Anita (Fictitious character)",
          "Science fiction, English.",
          "Detective and mystery stories, English.",
          "Drenai (Imaginary place)",
          "Persian Gulf War, 1991",
          "Criminals",
          "Arabic fiction",
          "Brewing",
          "Allegories",
          "Ballet dancers",
          "New York (State)",
          "Eretz Israel",
          "Apprentices",
          "Manuscripts",
          "Divorced people",
          "American essays",
          "Amazon River Region",
          "Dead",
          "Artists",
          "Jews",
          "Englisch - Geschichte - Lyrik - Aufsatzsammlung",
          "Behavior",
          "Minimal brain dysfunction in children",
          "Spiritual life",
          "Bus travel",
          "Teenagers",
          "Gambling",
          "Poets, American",
          "Czech Republic",
          "Prisoners of war",
          "Mathematicians",
          "Existentialism",
          "Napoleonic Wars, 1800-1815",
          "Amnesty",
          "Black humor (Literature)",
          "Human cloning",
          "Apartment houses",
          "Motion picture actors and actresses",
          "Gay men",
          "Boarding schools",
          "Short stories, English",
          "Adult education",
          "Aubrey, Jack (Fictitious character)",
          "Adventure stories, American",
          "Provence (France)",
          "Aging",
          "Cosmetics industry",
          "Canterbury (England)",
          "Acting",
          "People with social disabilities",
          "Horror stories.",
          "Black Death",
          "Family",
          "Boats and boating",
          "Sexual behavior surveys",
          "Adjustment (Psychology)",
          "Espionage",
          "Electronic books",
          "Love poetry",
          "Everest, Mount (China and Nepal)",
          "Alcestis (Greek mythology)",
          "Boarding school-fiction",
          "African American men",
          "Sex customs",
          "Alternative histories (Fiction)",
          "Meditation",
          "Friendship in adolescence",
          "Kyoto (Japan)",
          "Businessmen",
          "Labrador retriever",
          "Partition of decedents' estates",
          "Country life",
          "Music trade",
          "Detective and mystery stories, American",
          "Computer science",
          "Animals",
          "Democracy",
          "Psycho (Motion picture : 1960)",
          "Business women",
          "Angels",
          "Children of divorced parents",
          "Aboriginal Australians",
          "Nineteen ninety-eight, A.D.",
          "Interplanetary voyages",
          "Authors, Arab",
          "Chrestomanci (Fictitious character)",
          "Photographers",
          "Lisbon (Portugal)",
          "Film producers and directors",
          "Christian fiction",
          "Aeronautics",
          "Essentialism (Philosophy)",
          "Estados Unidos - Relaciones exteriores - 1945-1989",
          "Clergy",
          "Animal sounds",
          "Archaeological expeditions",
          "Seduction",
          "Explorers",
          "Love",
          "Consumer behavior",
          "Birds",
          "Language and languages",
          "Blacks",
          "Reducing diets",
          "City girl",
          "Childbirth",
          "Humorous fiction",
          "Chick lit",
          "Female friendship",
          "Cornwall (England : County)",
          "Theology, Doctrinal",
          "Audiobooks",
          "Children of Holocaust survivors",
          "Confianza en sí mismo",
          "Aircraft accidents",
          "Africa, East",
          "Dragons",
          "Austria",
          "Mars (Planet)",
          "Crime investigations",
          "Outlaws",
          "Bedtime",
          "Authors, Cuban",
          "Dallas, Eve (Fictitious character)",
          "Communication in families",
          "Novelists, English",
          "Escapes",
          "Castle Rock (Me. : Imaginary place)",
          "Benedictine monasteries",
          "Amyotrophic lateral sclerosis",
          "Abused wives",
          "Birthparents",
          "Conner, Rainie (Fictitious character)",
          "Bosnia and Herzegovina",
          "Otherland (Imaginary place)",
          "Divorce",
          "Courage",
          "Insane, Criminal and dangerous",
          "American wit and humor",
          "Experimental fiction, American",
          "Argentine literature",
          "Poets, Chilean",
          "Hitchhiking",
          "Science fiction, English",
          "Polish poetry",
          "Cellists",
          "Holt, Max (Fictitious character)",
          "Latin poetry",
          "Zoology",
          "Hyland, Morn (Fictitious character)",
          "Dystopias",
          "Good and evil",
          "Heroes",
          "Surealism",
          "Large print books",
          "Christian saints",
          "Identity (Psychology)",
          "87th Precinct (Imaginary place)",
          "Women terrorists",
          "Organized Crime",
          "Death (Fictitious character : Gaiman)",
          "Humorous stories",
          "English essays",
          "Botanique",
          "Autism",
          "Cookbooks",
          "Physics",
          "European fiction",
          "Bumppo, Natty (Fictitious character)",
          "Illinois",
          "Yoknapatawpha County (Imaginary place)",
          "Humorous stories, American",
          "Book burning",
          "Conan (Fictitious character)",
          "Nanjing (Jiangsu Sheng, China)",
          "Black market",
          "Elves",
          "Shipwrecks",
          "Cerebrovascular disease",
          "Girls",
          "Church work with the poor",
          "Actors and actresses",
          "Defectors",
          "Astronomers",
          "College stories",
          "Sea stories",
          "Disasters",
          "Detective and mystery comic books, strips, etc",
          "Aeneas (Legendary character)",
          "Building laws",
          "LITERARY CRITICISM",
          "Amish",
          "Epic literature",
          "Human-animal relationships",
          "Imperialism",
          "Catholic women",
          "Aged women",
          "Inventions",
          "Ballets",
          "Butlers",
          "Gardens",
          "Assassins",
          "Married people",
          "Indic fiction (English)"
         ],
         "xaxis": "x",
         "y": {
          "bdata": "2wkWAocBAgGkAJoAmACIAH4AcgBLAEYARQBCADoAMQAuAC0ALAArACoAKQAkACQAIgAgACAAHwAbABsAGAAYABYAEwATABIAEQAQAA8ADgAMAAwACwALAAsACgAJAAgACAAIAAgACAAHAAcABwAHAAcABwAHAAYABgAGAAYABgAGAAYABQAFAAUABQAFAAUABAAEAAQABAAEAAQABAAEAAQABAAEAAQAAwADAAMAAwADAAMAAwADAAMAAwADAAMAAwADAAMAAwADAAMAAwADAAMAAwADAAIAAgACAAIAAgACAAIAAgACAAIAAgACAAIAAgACAAIAAgACAAIAAgACAAIAAgACAAIAAgACAAIAAgACAAIAAgACAAIAAgACAAIAAgACAAIAAgACAAIAAgACAAIAAgACAAIAAgACAAIAAgABAAEAAQABAAEAAQABAAEAAQABAAEAAQABAAEAAQABAAEAAQABAAEAAQABAAEAAQABAAEAAQABAAEAAQABAAEAAQABAAEAAQABAAEAAQABAAEAAQABAAEAAQABAAEAAQABAAEAAQABAAEAAQABAAEAAQABAAEAAQABAAEAAQABAAEAAQABAAEAAQABAAEAAQABAAEAAQABAAEAAQABAAEAAQABAAEAAQABAAEAAQABAAEAAQABAAEAAQABAAEAAQABAAEAAQABAAEAAQABAAEAAQABAAEAAQABAAEAAQABAAEAAQABAAEAAQABAAEAAQABAAEAAQABAAEAAQABAAEAAQABAAEAAQABAAEAAQABAAEAAQABAAEAAQABAAEAAQABAAEAAQABAAEAAQABAAEAAQABAAEAAQABAAEAAQABAAEAAQABAAEAAQABAAEAAQABAAEAAQABAAEAAQABAAEAAQABAAEAAQABAAEAAQABAAEAAQABAAEAAQABAAEAAQABAAEAAQABAAEAAQABAAEAAQABAAEAAQABAAEAAQABAAEAAQABAAEAAQABAAEAAQABAAEAAQABAAEAAQABAAEAAQABAAEAAQABAAEAAQABAAEAAQABAAEAAQABAAEAAQABAAEAAQABAAEAAQABAAEAAQABAAEAAQABAAEAAQABAAEAAQABAAEAAQABAAEAAQABAAEAAQABAAEAAQABAAEAAQABAAEAAQABAAEAAQABAAEAAQABAAEAAQABAAEAAQABAAEAAQABAAEAAQABAAEAAQABAAEAAQABAAEAAQABAAEAAQABAAEAAQABAAEAAQABAAEAAQABAAEAAQABAAEAAQABAAEAAQABAAEAAQABAAEAAQABAAEAAQABAAEAAQABAAEAAQABAAEAAQABAAEAAQABAAEAAQABAAEAAQABAAEAAQABAAEAAQABAAEAAQABAAEAAQABAAEAAQABAAEAAQABAAEA",
          "dtype": "i2"
         },
         "yaxis": "y"
        }
       ],
       "layout": {
        "barmode": "relative",
        "legend": {
         "tracegroupgap": 0
        },
        "template": {
         "data": {
          "bar": [
           {
            "error_x": {
             "color": "#2a3f5f"
            },
            "error_y": {
             "color": "#2a3f5f"
            },
            "marker": {
             "line": {
              "color": "white",
              "width": 0.5
             },
             "pattern": {
              "fillmode": "overlay",
              "size": 10,
              "solidity": 0.2
             }
            },
            "type": "bar"
           }
          ],
          "barpolar": [
           {
            "marker": {
             "line": {
              "color": "white",
              "width": 0.5
             },
             "pattern": {
              "fillmode": "overlay",
              "size": 10,
              "solidity": 0.2
             }
            },
            "type": "barpolar"
           }
          ],
          "carpet": [
           {
            "aaxis": {
             "endlinecolor": "#2a3f5f",
             "gridcolor": "#C8D4E3",
             "linecolor": "#C8D4E3",
             "minorgridcolor": "#C8D4E3",
             "startlinecolor": "#2a3f5f"
            },
            "baxis": {
             "endlinecolor": "#2a3f5f",
             "gridcolor": "#C8D4E3",
             "linecolor": "#C8D4E3",
             "minorgridcolor": "#C8D4E3",
             "startlinecolor": "#2a3f5f"
            },
            "type": "carpet"
           }
          ],
          "choropleth": [
           {
            "colorbar": {
             "outlinewidth": 0,
             "ticks": ""
            },
            "type": "choropleth"
           }
          ],
          "contour": [
           {
            "colorbar": {
             "outlinewidth": 0,
             "ticks": ""
            },
            "colorscale": [
             [
              0,
              "#0d0887"
             ],
             [
              0.1111111111111111,
              "#46039f"
             ],
             [
              0.2222222222222222,
              "#7201a8"
             ],
             [
              0.3333333333333333,
              "#9c179e"
             ],
             [
              0.4444444444444444,
              "#bd3786"
             ],
             [
              0.5555555555555556,
              "#d8576b"
             ],
             [
              0.6666666666666666,
              "#ed7953"
             ],
             [
              0.7777777777777778,
              "#fb9f3a"
             ],
             [
              0.8888888888888888,
              "#fdca26"
             ],
             [
              1,
              "#f0f921"
             ]
            ],
            "type": "contour"
           }
          ],
          "contourcarpet": [
           {
            "colorbar": {
             "outlinewidth": 0,
             "ticks": ""
            },
            "type": "contourcarpet"
           }
          ],
          "heatmap": [
           {
            "colorbar": {
             "outlinewidth": 0,
             "ticks": ""
            },
            "colorscale": [
             [
              0,
              "#0d0887"
             ],
             [
              0.1111111111111111,
              "#46039f"
             ],
             [
              0.2222222222222222,
              "#7201a8"
             ],
             [
              0.3333333333333333,
              "#9c179e"
             ],
             [
              0.4444444444444444,
              "#bd3786"
             ],
             [
              0.5555555555555556,
              "#d8576b"
             ],
             [
              0.6666666666666666,
              "#ed7953"
             ],
             [
              0.7777777777777778,
              "#fb9f3a"
             ],
             [
              0.8888888888888888,
              "#fdca26"
             ],
             [
              1,
              "#f0f921"
             ]
            ],
            "type": "heatmap"
           }
          ],
          "histogram": [
           {
            "marker": {
             "pattern": {
              "fillmode": "overlay",
              "size": 10,
              "solidity": 0.2
             }
            },
            "type": "histogram"
           }
          ],
          "histogram2d": [
           {
            "colorbar": {
             "outlinewidth": 0,
             "ticks": ""
            },
            "colorscale": [
             [
              0,
              "#0d0887"
             ],
             [
              0.1111111111111111,
              "#46039f"
             ],
             [
              0.2222222222222222,
              "#7201a8"
             ],
             [
              0.3333333333333333,
              "#9c179e"
             ],
             [
              0.4444444444444444,
              "#bd3786"
             ],
             [
              0.5555555555555556,
              "#d8576b"
             ],
             [
              0.6666666666666666,
              "#ed7953"
             ],
             [
              0.7777777777777778,
              "#fb9f3a"
             ],
             [
              0.8888888888888888,
              "#fdca26"
             ],
             [
              1,
              "#f0f921"
             ]
            ],
            "type": "histogram2d"
           }
          ],
          "histogram2dcontour": [
           {
            "colorbar": {
             "outlinewidth": 0,
             "ticks": ""
            },
            "colorscale": [
             [
              0,
              "#0d0887"
             ],
             [
              0.1111111111111111,
              "#46039f"
             ],
             [
              0.2222222222222222,
              "#7201a8"
             ],
             [
              0.3333333333333333,
              "#9c179e"
             ],
             [
              0.4444444444444444,
              "#bd3786"
             ],
             [
              0.5555555555555556,
              "#d8576b"
             ],
             [
              0.6666666666666666,
              "#ed7953"
             ],
             [
              0.7777777777777778,
              "#fb9f3a"
             ],
             [
              0.8888888888888888,
              "#fdca26"
             ],
             [
              1,
              "#f0f921"
             ]
            ],
            "type": "histogram2dcontour"
           }
          ],
          "mesh3d": [
           {
            "colorbar": {
             "outlinewidth": 0,
             "ticks": ""
            },
            "type": "mesh3d"
           }
          ],
          "parcoords": [
           {
            "line": {
             "colorbar": {
              "outlinewidth": 0,
              "ticks": ""
             }
            },
            "type": "parcoords"
           }
          ],
          "pie": [
           {
            "automargin": true,
            "type": "pie"
           }
          ],
          "scatter": [
           {
            "fillpattern": {
             "fillmode": "overlay",
             "size": 10,
             "solidity": 0.2
            },
            "type": "scatter"
           }
          ],
          "scatter3d": [
           {
            "line": {
             "colorbar": {
              "outlinewidth": 0,
              "ticks": ""
             }
            },
            "marker": {
             "colorbar": {
              "outlinewidth": 0,
              "ticks": ""
             }
            },
            "type": "scatter3d"
           }
          ],
          "scattercarpet": [
           {
            "marker": {
             "colorbar": {
              "outlinewidth": 0,
              "ticks": ""
             }
            },
            "type": "scattercarpet"
           }
          ],
          "scattergeo": [
           {
            "marker": {
             "colorbar": {
              "outlinewidth": 0,
              "ticks": ""
             }
            },
            "type": "scattergeo"
           }
          ],
          "scattergl": [
           {
            "marker": {
             "colorbar": {
              "outlinewidth": 0,
              "ticks": ""
             }
            },
            "type": "scattergl"
           }
          ],
          "scattermap": [
           {
            "marker": {
             "colorbar": {
              "outlinewidth": 0,
              "ticks": ""
             }
            },
            "type": "scattermap"
           }
          ],
          "scattermapbox": [
           {
            "marker": {
             "colorbar": {
              "outlinewidth": 0,
              "ticks": ""
             }
            },
            "type": "scattermapbox"
           }
          ],
          "scatterpolar": [
           {
            "marker": {
             "colorbar": {
              "outlinewidth": 0,
              "ticks": ""
             }
            },
            "type": "scatterpolar"
           }
          ],
          "scatterpolargl": [
           {
            "marker": {
             "colorbar": {
              "outlinewidth": 0,
              "ticks": ""
             }
            },
            "type": "scatterpolargl"
           }
          ],
          "scatterternary": [
           {
            "marker": {
             "colorbar": {
              "outlinewidth": 0,
              "ticks": ""
             }
            },
            "type": "scatterternary"
           }
          ],
          "surface": [
           {
            "colorbar": {
             "outlinewidth": 0,
             "ticks": ""
            },
            "colorscale": [
             [
              0,
              "#0d0887"
             ],
             [
              0.1111111111111111,
              "#46039f"
             ],
             [
              0.2222222222222222,
              "#7201a8"
             ],
             [
              0.3333333333333333,
              "#9c179e"
             ],
             [
              0.4444444444444444,
              "#bd3786"
             ],
             [
              0.5555555555555556,
              "#d8576b"
             ],
             [
              0.6666666666666666,
              "#ed7953"
             ],
             [
              0.7777777777777778,
              "#fb9f3a"
             ],
             [
              0.8888888888888888,
              "#fdca26"
             ],
             [
              1,
              "#f0f921"
             ]
            ],
            "type": "surface"
           }
          ],
          "table": [
           {
            "cells": {
             "fill": {
              "color": "#EBF0F8"
             },
             "line": {
              "color": "white"
             }
            },
            "header": {
             "fill": {
              "color": "#C8D4E3"
             },
             "line": {
              "color": "white"
             }
            },
            "type": "table"
           }
          ]
         },
         "layout": {
          "annotationdefaults": {
           "arrowcolor": "#2a3f5f",
           "arrowhead": 0,
           "arrowwidth": 1
          },
          "autotypenumbers": "strict",
          "coloraxis": {
           "colorbar": {
            "outlinewidth": 0,
            "ticks": ""
           }
          },
          "colorscale": {
           "diverging": [
            [
             0,
             "#8e0152"
            ],
            [
             0.1,
             "#c51b7d"
            ],
            [
             0.2,
             "#de77ae"
            ],
            [
             0.3,
             "#f1b6da"
            ],
            [
             0.4,
             "#fde0ef"
            ],
            [
             0.5,
             "#f7f7f7"
            ],
            [
             0.6,
             "#e6f5d0"
            ],
            [
             0.7,
             "#b8e186"
            ],
            [
             0.8,
             "#7fbc41"
            ],
            [
             0.9,
             "#4d9221"
            ],
            [
             1,
             "#276419"
            ]
           ],
           "sequential": [
            [
             0,
             "#0d0887"
            ],
            [
             0.1111111111111111,
             "#46039f"
            ],
            [
             0.2222222222222222,
             "#7201a8"
            ],
            [
             0.3333333333333333,
             "#9c179e"
            ],
            [
             0.4444444444444444,
             "#bd3786"
            ],
            [
             0.5555555555555556,
             "#d8576b"
            ],
            [
             0.6666666666666666,
             "#ed7953"
            ],
            [
             0.7777777777777778,
             "#fb9f3a"
            ],
            [
             0.8888888888888888,
             "#fdca26"
            ],
            [
             1,
             "#f0f921"
            ]
           ],
           "sequentialminus": [
            [
             0,
             "#0d0887"
            ],
            [
             0.1111111111111111,
             "#46039f"
            ],
            [
             0.2222222222222222,
             "#7201a8"
            ],
            [
             0.3333333333333333,
             "#9c179e"
            ],
            [
             0.4444444444444444,
             "#bd3786"
            ],
            [
             0.5555555555555556,
             "#d8576b"
            ],
            [
             0.6666666666666666,
             "#ed7953"
            ],
            [
             0.7777777777777778,
             "#fb9f3a"
            ],
            [
             0.8888888888888888,
             "#fdca26"
            ],
            [
             1,
             "#f0f921"
            ]
           ]
          },
          "colorway": [
           "#636efa",
           "#EF553B",
           "#00cc96",
           "#ab63fa",
           "#FFA15A",
           "#19d3f3",
           "#FF6692",
           "#B6E880",
           "#FF97FF",
           "#FECB52"
          ],
          "font": {
           "color": "#2a3f5f"
          },
          "geo": {
           "bgcolor": "white",
           "lakecolor": "white",
           "landcolor": "white",
           "showlakes": true,
           "showland": true,
           "subunitcolor": "#C8D4E3"
          },
          "hoverlabel": {
           "align": "left"
          },
          "hovermode": "closest",
          "mapbox": {
           "style": "light"
          },
          "paper_bgcolor": "white",
          "plot_bgcolor": "white",
          "polar": {
           "angularaxis": {
            "gridcolor": "#EBF0F8",
            "linecolor": "#EBF0F8",
            "ticks": ""
           },
           "bgcolor": "white",
           "radialaxis": {
            "gridcolor": "#EBF0F8",
            "linecolor": "#EBF0F8",
            "ticks": ""
           }
          },
          "scene": {
           "xaxis": {
            "backgroundcolor": "white",
            "gridcolor": "#DFE8F3",
            "gridwidth": 2,
            "linecolor": "#EBF0F8",
            "showbackground": true,
            "ticks": "",
            "zerolinecolor": "#EBF0F8"
           },
           "yaxis": {
            "backgroundcolor": "white",
            "gridcolor": "#DFE8F3",
            "gridwidth": 2,
            "linecolor": "#EBF0F8",
            "showbackground": true,
            "ticks": "",
            "zerolinecolor": "#EBF0F8"
           },
           "zaxis": {
            "backgroundcolor": "white",
            "gridcolor": "#DFE8F3",
            "gridwidth": 2,
            "linecolor": "#EBF0F8",
            "showbackground": true,
            "ticks": "",
            "zerolinecolor": "#EBF0F8"
           }
          },
          "shapedefaults": {
           "line": {
            "color": "#2a3f5f"
           }
          },
          "ternary": {
           "aaxis": {
            "gridcolor": "#DFE8F3",
            "linecolor": "#A2B1C6",
            "ticks": ""
           },
           "baxis": {
            "gridcolor": "#DFE8F3",
            "linecolor": "#A2B1C6",
            "ticks": ""
           },
           "bgcolor": "white",
           "caxis": {
            "gridcolor": "#DFE8F3",
            "linecolor": "#A2B1C6",
            "ticks": ""
           }
          },
          "title": {
           "x": 0.05
          },
          "xaxis": {
           "automargin": true,
           "gridcolor": "#EBF0F8",
           "linecolor": "#EBF0F8",
           "ticks": "",
           "title": {
            "standoff": 15
           },
           "zerolinecolor": "#EBF0F8",
           "zerolinewidth": 2
          },
          "yaxis": {
           "automargin": true,
           "gridcolor": "#EBF0F8",
           "linecolor": "#EBF0F8",
           "ticks": "",
           "title": {
            "standoff": 15
           },
           "zerolinecolor": "#EBF0F8",
           "zerolinewidth": 2
          }
         }
        },
        "title": {
         "text": "Book Category Distribution"
        },
        "xaxis": {
         "anchor": "y",
         "domain": [
          0,
          1
         ],
         "tickangle": 90,
         "title": {
          "text": "Category"
         }
        },
        "yaxis": {
         "anchor": "x",
         "domain": [
          0,
          1
         ],
         "title": {
          "text": "Count"
         }
        }
       }
      }
     },
     "metadata": {},
     "output_type": "display_data"
    }
   ],
   "source": [
    "# Plot the distribution of book categories\n",
    "plot_category_distribution(book_missing, category_column='categories', title='Book Category Distribution')"
   ]
  },
  {
   "cell_type": "markdown",
   "id": "4d6c4e02",
   "metadata": {},
   "source": [
    "The `description` column contains some meaningless or uninformative comments.  \n",
    "These should be removed, as they are not useful for our goal of recommending books.  \n",
    "A simple approach is to remove the shortest texts. At this point, we will investigate the length of the `descriptions` and identify a threshold for the most meaningful ones.  "
   ]
  },
  {
   "cell_type": "code",
   "execution_count": 19,
   "id": "fccf6663",
   "metadata": {},
   "outputs": [
    {
     "name": "stderr",
     "output_type": "stream",
     "text": [
      "/var/folders/r0/j1r1w1wj62d3515ngrr0j1kc0000gn/T/ipykernel_41255/4057087481.py:1: SettingWithCopyWarning:\n",
      "\n",
      "\n",
      "A value is trying to be set on a copy of a slice from a DataFrame.\n",
      "Try using .loc[row_indexer,col_indexer] = value instead\n",
      "\n",
      "See the caveats in the documentation: https://pandas.pydata.org/pandas-docs/stable/user_guide/indexing.html#returning-a-view-versus-a-copy\n",
      "\n"
     ]
    }
   ],
   "source": [
    "book_missing[\"words_in_description\"] = book_missing[\"description\"].str.split().str.len()"
   ]
  },
  {
   "cell_type": "code",
   "execution_count": 20,
   "id": "f74482cd",
   "metadata": {},
   "outputs": [
    {
     "data": {
      "text/plain": [
       "(6507, 15)"
      ]
     },
     "execution_count": 20,
     "metadata": {},
     "output_type": "execute_result"
    }
   ],
   "source": [
    "book_missing.shape"
   ]
  },
  {
   "cell_type": "code",
   "execution_count": 21,
   "id": "a1c94daf",
   "metadata": {},
   "outputs": [
    {
     "data": {
      "text/html": [
       "<div>\n",
       "<style scoped>\n",
       "    .dataframe tbody tr th:only-of-type {\n",
       "        vertical-align: middle;\n",
       "    }\n",
       "\n",
       "    .dataframe tbody tr th {\n",
       "        vertical-align: top;\n",
       "    }\n",
       "\n",
       "    .dataframe thead th {\n",
       "        text-align: right;\n",
       "    }\n",
       "</style>\n",
       "<table border=\"1\" class=\"dataframe\">\n",
       "  <thead>\n",
       "    <tr style=\"text-align: right;\">\n",
       "      <th></th>\n",
       "      <th>isbn13</th>\n",
       "      <th>isbn10</th>\n",
       "      <th>title</th>\n",
       "      <th>subtitle</th>\n",
       "      <th>authors</th>\n",
       "      <th>categories</th>\n",
       "      <th>thumbnail</th>\n",
       "      <th>description</th>\n",
       "      <th>published_year</th>\n",
       "      <th>average_rating</th>\n",
       "      <th>num_pages</th>\n",
       "      <th>ratings_count</th>\n",
       "      <th>missing_description</th>\n",
       "      <th>age_of_book</th>\n",
       "      <th>words_in_description</th>\n",
       "    </tr>\n",
       "  </thead>\n",
       "  <tbody>\n",
       "    <tr>\n",
       "      <th>0</th>\n",
       "      <td>9780002005883</td>\n",
       "      <td>0002005883</td>\n",
       "      <td>Gilead</td>\n",
       "      <td>NaN</td>\n",
       "      <td>Marilynne Robinson</td>\n",
       "      <td>Fiction</td>\n",
       "      <td>http://books.google.com/books/content?id=KQZCP...</td>\n",
       "      <td>A NOVEL THAT READERS and critics have been eag...</td>\n",
       "      <td>2004.0</td>\n",
       "      <td>3.85</td>\n",
       "      <td>247.0</td>\n",
       "      <td>361.0</td>\n",
       "      <td>0</td>\n",
       "      <td>21.0</td>\n",
       "      <td>199</td>\n",
       "    </tr>\n",
       "    <tr>\n",
       "      <th>1</th>\n",
       "      <td>9780002261982</td>\n",
       "      <td>0002261987</td>\n",
       "      <td>Spider's Web</td>\n",
       "      <td>A Novel</td>\n",
       "      <td>Charles Osborne;Agatha Christie</td>\n",
       "      <td>Detective and mystery stories</td>\n",
       "      <td>http://books.google.com/books/content?id=gA5GP...</td>\n",
       "      <td>A new 'Christie for Christmas' -- a full-lengt...</td>\n",
       "      <td>2000.0</td>\n",
       "      <td>3.83</td>\n",
       "      <td>241.0</td>\n",
       "      <td>5164.0</td>\n",
       "      <td>0</td>\n",
       "      <td>25.0</td>\n",
       "      <td>205</td>\n",
       "    </tr>\n",
       "    <tr>\n",
       "      <th>2</th>\n",
       "      <td>9780006163831</td>\n",
       "      <td>0006163831</td>\n",
       "      <td>The One Tree</td>\n",
       "      <td>NaN</td>\n",
       "      <td>Stephen R. Donaldson</td>\n",
       "      <td>American fiction</td>\n",
       "      <td>http://books.google.com/books/content?id=OmQaw...</td>\n",
       "      <td>Volume Two of Stephen Donaldson's acclaimed se...</td>\n",
       "      <td>1982.0</td>\n",
       "      <td>3.97</td>\n",
       "      <td>479.0</td>\n",
       "      <td>172.0</td>\n",
       "      <td>0</td>\n",
       "      <td>43.0</td>\n",
       "      <td>14</td>\n",
       "    </tr>\n",
       "    <tr>\n",
       "      <th>3</th>\n",
       "      <td>9780006178736</td>\n",
       "      <td>0006178731</td>\n",
       "      <td>Rage of angels</td>\n",
       "      <td>NaN</td>\n",
       "      <td>Sidney Sheldon</td>\n",
       "      <td>Fiction</td>\n",
       "      <td>http://books.google.com/books/content?id=FKo2T...</td>\n",
       "      <td>A memorable, mesmerizing heroine Jennifer -- b...</td>\n",
       "      <td>1993.0</td>\n",
       "      <td>3.93</td>\n",
       "      <td>512.0</td>\n",
       "      <td>29532.0</td>\n",
       "      <td>0</td>\n",
       "      <td>32.0</td>\n",
       "      <td>57</td>\n",
       "    </tr>\n",
       "    <tr>\n",
       "      <th>4</th>\n",
       "      <td>9780006280897</td>\n",
       "      <td>0006280897</td>\n",
       "      <td>The Four Loves</td>\n",
       "      <td>NaN</td>\n",
       "      <td>Clive Staples Lewis</td>\n",
       "      <td>Christian life</td>\n",
       "      <td>http://books.google.com/books/content?id=XhQ5X...</td>\n",
       "      <td>Lewis' work on the nature of love divides love...</td>\n",
       "      <td>2002.0</td>\n",
       "      <td>4.15</td>\n",
       "      <td>170.0</td>\n",
       "      <td>33684.0</td>\n",
       "      <td>0</td>\n",
       "      <td>23.0</td>\n",
       "      <td>45</td>\n",
       "    </tr>\n",
       "  </tbody>\n",
       "</table>\n",
       "</div>"
      ],
      "text/plain": [
       "          isbn13      isbn10           title subtitle  \\\n",
       "0  9780002005883  0002005883          Gilead      NaN   \n",
       "1  9780002261982  0002261987    Spider's Web  A Novel   \n",
       "2  9780006163831  0006163831    The One Tree      NaN   \n",
       "3  9780006178736  0006178731  Rage of angels      NaN   \n",
       "4  9780006280897  0006280897  The Four Loves      NaN   \n",
       "\n",
       "                           authors                     categories  \\\n",
       "0               Marilynne Robinson                        Fiction   \n",
       "1  Charles Osborne;Agatha Christie  Detective and mystery stories   \n",
       "2             Stephen R. Donaldson               American fiction   \n",
       "3                   Sidney Sheldon                        Fiction   \n",
       "4              Clive Staples Lewis                 Christian life   \n",
       "\n",
       "                                           thumbnail  \\\n",
       "0  http://books.google.com/books/content?id=KQZCP...   \n",
       "1  http://books.google.com/books/content?id=gA5GP...   \n",
       "2  http://books.google.com/books/content?id=OmQaw...   \n",
       "3  http://books.google.com/books/content?id=FKo2T...   \n",
       "4  http://books.google.com/books/content?id=XhQ5X...   \n",
       "\n",
       "                                         description  published_year  \\\n",
       "0  A NOVEL THAT READERS and critics have been eag...          2004.0   \n",
       "1  A new 'Christie for Christmas' -- a full-lengt...          2000.0   \n",
       "2  Volume Two of Stephen Donaldson's acclaimed se...          1982.0   \n",
       "3  A memorable, mesmerizing heroine Jennifer -- b...          1993.0   \n",
       "4  Lewis' work on the nature of love divides love...          2002.0   \n",
       "\n",
       "   average_rating  num_pages  ratings_count  missing_description  age_of_book  \\\n",
       "0            3.85      247.0          361.0                    0         21.0   \n",
       "1            3.83      241.0         5164.0                    0         25.0   \n",
       "2            3.97      479.0          172.0                    0         43.0   \n",
       "3            3.93      512.0        29532.0                    0         32.0   \n",
       "4            4.15      170.0        33684.0                    0         23.0   \n",
       "\n",
       "   words_in_description  \n",
       "0                   199  \n",
       "1                   205  \n",
       "2                    14  \n",
       "3                    57  \n",
       "4                    45  "
      ]
     },
     "execution_count": 21,
     "metadata": {},
     "output_type": "execute_result"
    }
   ],
   "source": [
    "book_missing.head(5)"
   ]
  },
  {
   "cell_type": "code",
   "execution_count": 22,
   "id": "714a2a7c",
   "metadata": {},
   "outputs": [
    {
     "data": {
      "application/vnd.plotly.v1+json": {
       "config": {
        "plotlyServerURL": "https://plot.ly"
       },
       "data": [
        {
         "bingroup": "x",
         "hovertemplate": "Words in Description=%{x}<br>count=%{y}<extra></extra>",
         "legendgroup": "",
         "marker": {
          "color": "#636efa",
          "pattern": {
           "shape": ""
          }
         },
         "name": "",
         "nbinsx": 100,
         "orientation": "v",
         "showlegend": false,
         "type": "histogram",
         "x": {
          "bdata": "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",
          "dtype": "i2"
         },
         "xaxis": "x",
         "yaxis": "y"
        }
       ],
       "layout": {
        "barmode": "relative",
        "legend": {
         "tracegroupgap": 0
        },
        "template": {
         "data": {
          "bar": [
           {
            "error_x": {
             "color": "#2a3f5f"
            },
            "error_y": {
             "color": "#2a3f5f"
            },
            "marker": {
             "line": {
              "color": "white",
              "width": 0.5
             },
             "pattern": {
              "fillmode": "overlay",
              "size": 10,
              "solidity": 0.2
             }
            },
            "type": "bar"
           }
          ],
          "barpolar": [
           {
            "marker": {
             "line": {
              "color": "white",
              "width": 0.5
             },
             "pattern": {
              "fillmode": "overlay",
              "size": 10,
              "solidity": 0.2
             }
            },
            "type": "barpolar"
           }
          ],
          "carpet": [
           {
            "aaxis": {
             "endlinecolor": "#2a3f5f",
             "gridcolor": "#C8D4E3",
             "linecolor": "#C8D4E3",
             "minorgridcolor": "#C8D4E3",
             "startlinecolor": "#2a3f5f"
            },
            "baxis": {
             "endlinecolor": "#2a3f5f",
             "gridcolor": "#C8D4E3",
             "linecolor": "#C8D4E3",
             "minorgridcolor": "#C8D4E3",
             "startlinecolor": "#2a3f5f"
            },
            "type": "carpet"
           }
          ],
          "choropleth": [
           {
            "colorbar": {
             "outlinewidth": 0,
             "ticks": ""
            },
            "type": "choropleth"
           }
          ],
          "contour": [
           {
            "colorbar": {
             "outlinewidth": 0,
             "ticks": ""
            },
            "colorscale": [
             [
              0,
              "#0d0887"
             ],
             [
              0.1111111111111111,
              "#46039f"
             ],
             [
              0.2222222222222222,
              "#7201a8"
             ],
             [
              0.3333333333333333,
              "#9c179e"
             ],
             [
              0.4444444444444444,
              "#bd3786"
             ],
             [
              0.5555555555555556,
              "#d8576b"
             ],
             [
              0.6666666666666666,
              "#ed7953"
             ],
             [
              0.7777777777777778,
              "#fb9f3a"
             ],
             [
              0.8888888888888888,
              "#fdca26"
             ],
             [
              1,
              "#f0f921"
             ]
            ],
            "type": "contour"
           }
          ],
          "contourcarpet": [
           {
            "colorbar": {
             "outlinewidth": 0,
             "ticks": ""
            },
            "type": "contourcarpet"
           }
          ],
          "heatmap": [
           {
            "colorbar": {
             "outlinewidth": 0,
             "ticks": ""
            },
            "colorscale": [
             [
              0,
              "#0d0887"
             ],
             [
              0.1111111111111111,
              "#46039f"
             ],
             [
              0.2222222222222222,
              "#7201a8"
             ],
             [
              0.3333333333333333,
              "#9c179e"
             ],
             [
              0.4444444444444444,
              "#bd3786"
             ],
             [
              0.5555555555555556,
              "#d8576b"
             ],
             [
              0.6666666666666666,
              "#ed7953"
             ],
             [
              0.7777777777777778,
              "#fb9f3a"
             ],
             [
              0.8888888888888888,
              "#fdca26"
             ],
             [
              1,
              "#f0f921"
             ]
            ],
            "type": "heatmap"
           }
          ],
          "histogram": [
           {
            "marker": {
             "pattern": {
              "fillmode": "overlay",
              "size": 10,
              "solidity": 0.2
             }
            },
            "type": "histogram"
           }
          ],
          "histogram2d": [
           {
            "colorbar": {
             "outlinewidth": 0,
             "ticks": ""
            },
            "colorscale": [
             [
              0,
              "#0d0887"
             ],
             [
              0.1111111111111111,
              "#46039f"
             ],
             [
              0.2222222222222222,
              "#7201a8"
             ],
             [
              0.3333333333333333,
              "#9c179e"
             ],
             [
              0.4444444444444444,
              "#bd3786"
             ],
             [
              0.5555555555555556,
              "#d8576b"
             ],
             [
              0.6666666666666666,
              "#ed7953"
             ],
             [
              0.7777777777777778,
              "#fb9f3a"
             ],
             [
              0.8888888888888888,
              "#fdca26"
             ],
             [
              1,
              "#f0f921"
             ]
            ],
            "type": "histogram2d"
           }
          ],
          "histogram2dcontour": [
           {
            "colorbar": {
             "outlinewidth": 0,
             "ticks": ""
            },
            "colorscale": [
             [
              0,
              "#0d0887"
             ],
             [
              0.1111111111111111,
              "#46039f"
             ],
             [
              0.2222222222222222,
              "#7201a8"
             ],
             [
              0.3333333333333333,
              "#9c179e"
             ],
             [
              0.4444444444444444,
              "#bd3786"
             ],
             [
              0.5555555555555556,
              "#d8576b"
             ],
             [
              0.6666666666666666,
              "#ed7953"
             ],
             [
              0.7777777777777778,
              "#fb9f3a"
             ],
             [
              0.8888888888888888,
              "#fdca26"
             ],
             [
              1,
              "#f0f921"
             ]
            ],
            "type": "histogram2dcontour"
           }
          ],
          "mesh3d": [
           {
            "colorbar": {
             "outlinewidth": 0,
             "ticks": ""
            },
            "type": "mesh3d"
           }
          ],
          "parcoords": [
           {
            "line": {
             "colorbar": {
              "outlinewidth": 0,
              "ticks": ""
             }
            },
            "type": "parcoords"
           }
          ],
          "pie": [
           {
            "automargin": true,
            "type": "pie"
           }
          ],
          "scatter": [
           {
            "fillpattern": {
             "fillmode": "overlay",
             "size": 10,
             "solidity": 0.2
            },
            "type": "scatter"
           }
          ],
          "scatter3d": [
           {
            "line": {
             "colorbar": {
              "outlinewidth": 0,
              "ticks": ""
             }
            },
            "marker": {
             "colorbar": {
              "outlinewidth": 0,
              "ticks": ""
             }
            },
            "type": "scatter3d"
           }
          ],
          "scattercarpet": [
           {
            "marker": {
             "colorbar": {
              "outlinewidth": 0,
              "ticks": ""
             }
            },
            "type": "scattercarpet"
           }
          ],
          "scattergeo": [
           {
            "marker": {
             "colorbar": {
              "outlinewidth": 0,
              "ticks": ""
             }
            },
            "type": "scattergeo"
           }
          ],
          "scattergl": [
           {
            "marker": {
             "colorbar": {
              "outlinewidth": 0,
              "ticks": ""
             }
            },
            "type": "scattergl"
           }
          ],
          "scattermap": [
           {
            "marker": {
             "colorbar": {
              "outlinewidth": 0,
              "ticks": ""
             }
            },
            "type": "scattermap"
           }
          ],
          "scattermapbox": [
           {
            "marker": {
             "colorbar": {
              "outlinewidth": 0,
              "ticks": ""
             }
            },
            "type": "scattermapbox"
           }
          ],
          "scatterpolar": [
           {
            "marker": {
             "colorbar": {
              "outlinewidth": 0,
              "ticks": ""
             }
            },
            "type": "scatterpolar"
           }
          ],
          "scatterpolargl": [
           {
            "marker": {
             "colorbar": {
              "outlinewidth": 0,
              "ticks": ""
             }
            },
            "type": "scatterpolargl"
           }
          ],
          "scatterternary": [
           {
            "marker": {
             "colorbar": {
              "outlinewidth": 0,
              "ticks": ""
             }
            },
            "type": "scatterternary"
           }
          ],
          "surface": [
           {
            "colorbar": {
             "outlinewidth": 0,
             "ticks": ""
            },
            "colorscale": [
             [
              0,
              "#0d0887"
             ],
             [
              0.1111111111111111,
              "#46039f"
             ],
             [
              0.2222222222222222,
              "#7201a8"
             ],
             [
              0.3333333333333333,
              "#9c179e"
             ],
             [
              0.4444444444444444,
              "#bd3786"
             ],
             [
              0.5555555555555556,
              "#d8576b"
             ],
             [
              0.6666666666666666,
              "#ed7953"
             ],
             [
              0.7777777777777778,
              "#fb9f3a"
             ],
             [
              0.8888888888888888,
              "#fdca26"
             ],
             [
              1,
              "#f0f921"
             ]
            ],
            "type": "surface"
           }
          ],
          "table": [
           {
            "cells": {
             "fill": {
              "color": "#EBF0F8"
             },
             "line": {
              "color": "white"
             }
            },
            "header": {
             "fill": {
              "color": "#C8D4E3"
             },
             "line": {
              "color": "white"
             }
            },
            "type": "table"
           }
          ]
         },
         "layout": {
          "annotationdefaults": {
           "arrowcolor": "#2a3f5f",
           "arrowhead": 0,
           "arrowwidth": 1
          },
          "autotypenumbers": "strict",
          "coloraxis": {
           "colorbar": {
            "outlinewidth": 0,
            "ticks": ""
           }
          },
          "colorscale": {
           "diverging": [
            [
             0,
             "#8e0152"
            ],
            [
             0.1,
             "#c51b7d"
            ],
            [
             0.2,
             "#de77ae"
            ],
            [
             0.3,
             "#f1b6da"
            ],
            [
             0.4,
             "#fde0ef"
            ],
            [
             0.5,
             "#f7f7f7"
            ],
            [
             0.6,
             "#e6f5d0"
            ],
            [
             0.7,
             "#b8e186"
            ],
            [
             0.8,
             "#7fbc41"
            ],
            [
             0.9,
             "#4d9221"
            ],
            [
             1,
             "#276419"
            ]
           ],
           "sequential": [
            [
             0,
             "#0d0887"
            ],
            [
             0.1111111111111111,
             "#46039f"
            ],
            [
             0.2222222222222222,
             "#7201a8"
            ],
            [
             0.3333333333333333,
             "#9c179e"
            ],
            [
             0.4444444444444444,
             "#bd3786"
            ],
            [
             0.5555555555555556,
             "#d8576b"
            ],
            [
             0.6666666666666666,
             "#ed7953"
            ],
            [
             0.7777777777777778,
             "#fb9f3a"
            ],
            [
             0.8888888888888888,
             "#fdca26"
            ],
            [
             1,
             "#f0f921"
            ]
           ],
           "sequentialminus": [
            [
             0,
             "#0d0887"
            ],
            [
             0.1111111111111111,
             "#46039f"
            ],
            [
             0.2222222222222222,
             "#7201a8"
            ],
            [
             0.3333333333333333,
             "#9c179e"
            ],
            [
             0.4444444444444444,
             "#bd3786"
            ],
            [
             0.5555555555555556,
             "#d8576b"
            ],
            [
             0.6666666666666666,
             "#ed7953"
            ],
            [
             0.7777777777777778,
             "#fb9f3a"
            ],
            [
             0.8888888888888888,
             "#fdca26"
            ],
            [
             1,
             "#f0f921"
            ]
           ]
          },
          "colorway": [
           "#636efa",
           "#EF553B",
           "#00cc96",
           "#ab63fa",
           "#FFA15A",
           "#19d3f3",
           "#FF6692",
           "#B6E880",
           "#FF97FF",
           "#FECB52"
          ],
          "font": {
           "color": "#2a3f5f"
          },
          "geo": {
           "bgcolor": "white",
           "lakecolor": "white",
           "landcolor": "white",
           "showlakes": true,
           "showland": true,
           "subunitcolor": "#C8D4E3"
          },
          "hoverlabel": {
           "align": "left"
          },
          "hovermode": "closest",
          "mapbox": {
           "style": "light"
          },
          "paper_bgcolor": "white",
          "plot_bgcolor": "white",
          "polar": {
           "angularaxis": {
            "gridcolor": "#EBF0F8",
            "linecolor": "#EBF0F8",
            "ticks": ""
           },
           "bgcolor": "white",
           "radialaxis": {
            "gridcolor": "#EBF0F8",
            "linecolor": "#EBF0F8",
            "ticks": ""
           }
          },
          "scene": {
           "xaxis": {
            "backgroundcolor": "white",
            "gridcolor": "#DFE8F3",
            "gridwidth": 2,
            "linecolor": "#EBF0F8",
            "showbackground": true,
            "ticks": "",
            "zerolinecolor": "#EBF0F8"
           },
           "yaxis": {
            "backgroundcolor": "white",
            "gridcolor": "#DFE8F3",
            "gridwidth": 2,
            "linecolor": "#EBF0F8",
            "showbackground": true,
            "ticks": "",
            "zerolinecolor": "#EBF0F8"
           },
           "zaxis": {
            "backgroundcolor": "white",
            "gridcolor": "#DFE8F3",
            "gridwidth": 2,
            "linecolor": "#EBF0F8",
            "showbackground": true,
            "ticks": "",
            "zerolinecolor": "#EBF0F8"
           }
          },
          "shapedefaults": {
           "line": {
            "color": "#2a3f5f"
           }
          },
          "ternary": {
           "aaxis": {
            "gridcolor": "#DFE8F3",
            "linecolor": "#A2B1C6",
            "ticks": ""
           },
           "baxis": {
            "gridcolor": "#DFE8F3",
            "linecolor": "#A2B1C6",
            "ticks": ""
           },
           "bgcolor": "white",
           "caxis": {
            "gridcolor": "#DFE8F3",
            "linecolor": "#A2B1C6",
            "ticks": ""
           }
          },
          "title": {
           "x": 0.05
          },
          "xaxis": {
           "automargin": true,
           "gridcolor": "#EBF0F8",
           "linecolor": "#EBF0F8",
           "ticks": "",
           "title": {
            "standoff": 15
           },
           "zerolinecolor": "#EBF0F8",
           "zerolinewidth": 2
          },
          "yaxis": {
           "automargin": true,
           "gridcolor": "#EBF0F8",
           "linecolor": "#EBF0F8",
           "ticks": "",
           "title": {
            "standoff": 15
           },
           "zerolinecolor": "#EBF0F8",
           "zerolinewidth": 2
          }
         }
        },
        "title": {
         "text": "Distribution of Words in Description"
        },
        "xaxis": {
         "anchor": "y",
         "domain": [
          0,
          1
         ],
         "title": {
          "text": "Number of Words in Description"
         }
        },
        "yaxis": {
         "anchor": "x",
         "domain": [
          0,
          1
         ],
         "title": {
          "text": "Count"
         }
        }
       }
      }
     },
     "metadata": {},
     "output_type": "display_data"
    }
   ],
   "source": [
    "plot_description_length_distribution(book_missing)"
   ]
  },
  {
   "cell_type": "markdown",
   "id": "886f3523",
   "metadata": {},
   "source": [
    "There is no clear boundary between short and long descriptions. Thus, we will investigate various word count bins to decide what constitutes a meaningful description. "
   ]
  },
  {
   "cell_type": "code",
   "execution_count": 23,
   "id": "32ae9ffb",
   "metadata": {},
   "outputs": [
    {
     "data": {
      "text/plain": [
       "6                                           Donation.\n",
       "11                                     Fantasy-roman.\n",
       "748              Includes bibliographical references.\n",
       "770                             Bound For Oregon (PB)\n",
       "775                                No Marketing Blurb\n",
       "812                                No Marketing Blurb\n",
       "857                          First published in 1813.\n",
       "944                         Edited by Maurice Hindle.\n",
       "953                        DEFOE/ROBINSON CRUSOE (BC)\n",
       "954                             Edited by John Carey.\n",
       "962                         ALLEN/GETTING THINGS DONE\n",
       "1054                            GILBERT/EAT PRAY LOVE\n",
       "1056    \"Graham Greene centennial, 1904-2004\"--Cover.\n",
       "1060                   STEINBECK/GRAPES OF WRATH (BC)\n",
       "1346                                   Fantasy-roman.\n",
       "1546                                      Winter 2003\n",
       "1610                                      Winter 1999\n",
       "1813                             National bestseller.\n",
       "1981                                         Romance.\n",
       "2089                               Oprah's Book Club.\n",
       "2372                       KANDEL/IN SEARCH OF MEMORY\n",
       "2946                           FICTION-ROMANCE/GOTHIC\n",
       "3064                               No Marketing Blurb\n",
       "3364                                   Fantasy-roman.\n",
       "3425                               A novel of Israel.\n",
       "3435                                 Science fiction.\n",
       "3611                                Cast ages: adult.\n",
       "3641                           A Classic Robot novel.\n",
       "3645                           Science fiction-roman.\n",
       "3857         Comprehensive Teacher's Guide available.\n",
       "3959                                   Ketubot Part I\n",
       "4262                             Issued in container.\n",
       "4898                                   Fantasy roman.\n",
       "5015                                             See:\n",
       "5090                                                ?\n",
       "5135                              (Autobiographical).\n",
       "5161                          A classic rediscovered.\n",
       "5243                                                .\n",
       "5245                                                .\n",
       "5332                               No Marketing Blurb\n",
       "5493                         Motion, Sound, and Heat.\n",
       "5505                                    Eventyrroman.\n",
       "5599                                             #48.\n",
       "5652                 see www.BloodMoonProductions.com\n",
       "6066                               No Marketing Blurb\n",
       "6144                             Dominion 3rd Edition\n",
       "6180                                  Revised edition\n",
       "6368                                        undefined\n",
       "6402                           Meaning of life novel.\n",
       "6499                                           Roman.\n",
       "6557                                 Kriminalromaner.\n",
       "6571                   Translated by Anthony Burgess.\n",
       "6695                               No Marketing Blurb\n",
       "6721                                          Horror.\n",
       "6794                             源氏物語54帖、「宮田切り絵」の真骨頂。\n",
       "Name: description, dtype: object"
      ]
     },
     "execution_count": 23,
     "metadata": {},
     "output_type": "execute_result"
    }
   ],
   "source": [
    "# Select descriptions with 1 to 4 words\n",
    "book_missing.loc[book_missing['words_in_description'].between(1,4), \"description\"]"
   ]
  },
  {
   "cell_type": "code",
   "execution_count": 24,
   "id": "31e7d45f",
   "metadata": {},
   "outputs": [
    {
     "data": {
      "text/plain": [
       "2       Volume Two of Stephen Donaldson's acclaimed se...\n",
       "38      Koko is Peter Straub's foray into the psycholo...\n",
       "70      A matter of life and death - and the Throne of...\n",
       "77                         Nonsense rhyming story. 4 yrs+\n",
       "83      Tie your tongue in terrible knots as you try t...\n",
       "                              ...                        \n",
       "6730    Nineteen writers dig into the spaces between g...\n",
       "6757                          Audio Book- unabriged on CD\n",
       "6767    Everything from the fingerprints of the gods t...\n",
       "6776    Raymond Chandler meets The Exorcist. Classic n...\n",
       "6795    Book Of Five Rings is a Kodansha International...\n",
       "Name: description, Length: 395, dtype: object"
      ]
     },
     "execution_count": 24,
     "metadata": {},
     "output_type": "execute_result"
    }
   ],
   "source": [
    "# Select descriptions with 5 to 15 words\n",
    "book_missing.loc[book_missing['words_in_description'].between(5,15), \"description\"]"
   ]
  },
  {
   "cell_type": "code",
   "execution_count": 25,
   "id": "d5d98ad4",
   "metadata": {},
   "outputs": [
    {
     "data": {
      "text/plain": [
       "10      One of Sidney Sheldon's most popular and bests...\n",
       "32      Tells the story of three generations of Chines...\n",
       "36      A magical and fantastic collection of early st...\n",
       "57      A young drifter finds more than he bargained f...\n",
       "68      A new 'The Doors of Perception' for the 21st c...\n",
       "                              ...                        \n",
       "6767    Everything from the fingerprints of the gods t...\n",
       "6782    Displays one of America's leading physicist's ...\n",
       "6783    Basics Illustration 01: Thinking Visually expl...\n",
       "6789    Provides an introduction to the American artis...\n",
       "6809    This is a jubilant and rewarding collection of...\n",
       "Name: description, Length: 947, dtype: object"
      ]
     },
     "execution_count": 25,
     "metadata": {},
     "output_type": "execute_result"
    }
   ],
   "source": [
    "# Select descriptions with 15 to 24 words\n",
    "book_missing.loc[book_missing['words_in_description'].between(15,24), \"description\"]"
   ]
  },
  {
   "cell_type": "code",
   "execution_count": 26,
   "id": "64e9c59e",
   "metadata": {},
   "outputs": [
    {
     "data": {
      "text/plain": [
       "9       Kate Blackwell is an enigma and one of the mos...\n",
       "14      Available in the U.S. for the first time, this...\n",
       "20      It is 1937, and Charles Ashworth, a Canon to t...\n",
       "21      Reissue of the author's most famous and well-l...\n",
       "46      No one believes a little girl when she insists...\n",
       "                              ...                        \n",
       "6760    Joel, an English teacher, has never really lik...\n",
       "6766    Discusses the historical and intellectual back...\n",
       "6775    Presents nearly one thousand recipes--from app...\n",
       "6779    Edited by the creator and executive producer o...\n",
       "6799    This book is the story of a young girl obsesse...\n",
       "Name: description, Length: 1229, dtype: object"
      ]
     },
     "execution_count": 26,
     "metadata": {},
     "output_type": "execute_result"
    }
   ],
   "source": [
    "# Select descriptions with 25 to 34 words\n",
    "book_missing.loc[book_missing['words_in_description'].between(25,34), \"description\"]"
   ]
  },
  {
   "cell_type": "markdown",
   "id": "1d2aef74",
   "metadata": {},
   "source": [
    "We will remove all datapoints where the description contains fewer than 25 words, as they are likely too short to be meaningful.  "
   ]
  },
  {
   "cell_type": "code",
   "execution_count": 27,
   "id": "a1a4a4c0",
   "metadata": {},
   "outputs": [],
   "source": [
    "book_missing_25_words = book_missing[book_missing[\"words_in_description\"] >= 25]"
   ]
  },
  {
   "cell_type": "code",
   "execution_count": 28,
   "id": "14f52b8f",
   "metadata": {},
   "outputs": [
    {
     "data": {
      "text/plain": [
       "(5197, 15)"
      ]
     },
     "execution_count": 28,
     "metadata": {},
     "output_type": "execute_result"
    }
   ],
   "source": [
    "book_missing_25_words.shape"
   ]
  },
  {
   "cell_type": "markdown",
   "id": "b6eaa9b2",
   "metadata": {},
   "source": [
    "#### The subtitle column"
   ]
  },
  {
   "cell_type": "code",
   "execution_count": 29,
   "id": "ad67b02d",
   "metadata": {},
   "outputs": [
    {
     "name": "stderr",
     "output_type": "stream",
     "text": [
      "/var/folders/r0/j1r1w1wj62d3515ngrr0j1kc0000gn/T/ipykernel_41255/4011297199.py:2: SettingWithCopyWarning:\n",
      "\n",
      "\n",
      "A value is trying to be set on a copy of a slice from a DataFrame.\n",
      "Try using .loc[row_indexer,col_indexer] = value instead\n",
      "\n",
      "See the caveats in the documentation: https://pandas.pydata.org/pandas-docs/stable/user_guide/indexing.html#returning-a-view-versus-a-copy\n",
      "\n"
     ]
    }
   ],
   "source": [
    "# Combine title and subtitle into a single column, using only the title if subtitle is missing\n",
    "book_missing_25_words['title_and_subtitle'] = (\n",
    "    np.where(book_missing_25_words['subtitle'].isna(), book_missing_25_words['title'],\n",
    "             book_missing_25_words[['title','subtitle']].astype(str).agg(\": \".join, axis =1))\n",
    ")"
   ]
  },
  {
   "cell_type": "code",
   "execution_count": 30,
   "id": "8d7e9b44",
   "metadata": {},
   "outputs": [
    {
     "data": {
      "text/html": [
       "<div>\n",
       "<style scoped>\n",
       "    .dataframe tbody tr th:only-of-type {\n",
       "        vertical-align: middle;\n",
       "    }\n",
       "\n",
       "    .dataframe tbody tr th {\n",
       "        vertical-align: top;\n",
       "    }\n",
       "\n",
       "    .dataframe thead th {\n",
       "        text-align: right;\n",
       "    }\n",
       "</style>\n",
       "<table border=\"1\" class=\"dataframe\">\n",
       "  <thead>\n",
       "    <tr style=\"text-align: right;\">\n",
       "      <th></th>\n",
       "      <th>isbn13</th>\n",
       "      <th>isbn10</th>\n",
       "      <th>title</th>\n",
       "      <th>subtitle</th>\n",
       "      <th>authors</th>\n",
       "      <th>categories</th>\n",
       "      <th>thumbnail</th>\n",
       "      <th>description</th>\n",
       "      <th>published_year</th>\n",
       "      <th>average_rating</th>\n",
       "      <th>num_pages</th>\n",
       "      <th>ratings_count</th>\n",
       "      <th>missing_description</th>\n",
       "      <th>age_of_book</th>\n",
       "      <th>words_in_description</th>\n",
       "      <th>title_and_subtitle</th>\n",
       "    </tr>\n",
       "  </thead>\n",
       "  <tbody>\n",
       "    <tr>\n",
       "      <th>785</th>\n",
       "      <td>9780140437911</td>\n",
       "      <td>0140437916</td>\n",
       "      <td>Saint Joan</td>\n",
       "      <td>NaN</td>\n",
       "      <td>George Bernard Shaw</td>\n",
       "      <td>Drama</td>\n",
       "      <td>http://books.google.com/books/content?id=9S6eV...</td>\n",
       "      <td>One of Shaw's most unusual and enduringly popu...</td>\n",
       "      <td>2003.0</td>\n",
       "      <td>3.79</td>\n",
       "      <td>160.0</td>\n",
       "      <td>5789.0</td>\n",
       "      <td>0</td>\n",
       "      <td>22.0</td>\n",
       "      <td>52</td>\n",
       "      <td>Saint Joan</td>\n",
       "    </tr>\n",
       "  </tbody>\n",
       "</table>\n",
       "</div>"
      ],
      "text/plain": [
       "            isbn13      isbn10       title subtitle              authors  \\\n",
       "785  9780140437911  0140437916  Saint Joan      NaN  George Bernard Shaw   \n",
       "\n",
       "    categories                                          thumbnail  \\\n",
       "785      Drama  http://books.google.com/books/content?id=9S6eV...   \n",
       "\n",
       "                                           description  published_year  \\\n",
       "785  One of Shaw's most unusual and enduringly popu...          2003.0   \n",
       "\n",
       "     average_rating  num_pages  ratings_count  missing_description  \\\n",
       "785            3.79      160.0         5789.0                    0   \n",
       "\n",
       "     age_of_book  words_in_description title_and_subtitle  \n",
       "785         22.0                    52         Saint Joan  "
      ]
     },
     "execution_count": 30,
     "metadata": {},
     "output_type": "execute_result"
    }
   ],
   "source": [
    "book_missing_25_words.sample()"
   ]
  },
  {
   "cell_type": "code",
   "execution_count": 31,
   "id": "00925664",
   "metadata": {},
   "outputs": [
    {
     "name": "stderr",
     "output_type": "stream",
     "text": [
      "/var/folders/r0/j1r1w1wj62d3515ngrr0j1kc0000gn/T/ipykernel_41255/1324437762.py:2: SettingWithCopyWarning:\n",
      "\n",
      "\n",
      "A value is trying to be set on a copy of a slice from a DataFrame.\n",
      "Try using .loc[row_indexer,col_indexer] = value instead\n",
      "\n",
      "See the caveats in the documentation: https://pandas.pydata.org/pandas-docs/stable/user_guide/indexing.html#returning-a-view-versus-a-copy\n",
      "\n"
     ]
    }
   ],
   "source": [
    "# Create a combined column of ISBN and description for tagging or text processing\n",
    "book_missing_25_words[\"tagged_description\"] = book_missing_25_words[[\"isbn13\",\"description\"]].astype(str).agg(\" \".join, axis =1)"
   ]
  },
  {
   "cell_type": "code",
   "execution_count": 32,
   "id": "efecb3bd",
   "metadata": {},
   "outputs": [
    {
     "data": {
      "text/html": [
       "<div>\n",
       "<style scoped>\n",
       "    .dataframe tbody tr th:only-of-type {\n",
       "        vertical-align: middle;\n",
       "    }\n",
       "\n",
       "    .dataframe tbody tr th {\n",
       "        vertical-align: top;\n",
       "    }\n",
       "\n",
       "    .dataframe thead th {\n",
       "        text-align: right;\n",
       "    }\n",
       "</style>\n",
       "<table border=\"1\" class=\"dataframe\">\n",
       "  <thead>\n",
       "    <tr style=\"text-align: right;\">\n",
       "      <th></th>\n",
       "      <th>isbn13</th>\n",
       "      <th>isbn10</th>\n",
       "      <th>title</th>\n",
       "      <th>subtitle</th>\n",
       "      <th>authors</th>\n",
       "      <th>categories</th>\n",
       "      <th>thumbnail</th>\n",
       "      <th>description</th>\n",
       "      <th>published_year</th>\n",
       "      <th>average_rating</th>\n",
       "      <th>num_pages</th>\n",
       "      <th>ratings_count</th>\n",
       "      <th>missing_description</th>\n",
       "      <th>age_of_book</th>\n",
       "      <th>words_in_description</th>\n",
       "      <th>title_and_subtitle</th>\n",
       "      <th>tagged_description</th>\n",
       "    </tr>\n",
       "  </thead>\n",
       "  <tbody>\n",
       "    <tr>\n",
       "      <th>5250</th>\n",
       "      <td>9780814727010</td>\n",
       "      <td>0814727018</td>\n",
       "      <td>The Gramsci Reader</td>\n",
       "      <td>Selected Writings, 1916-1935</td>\n",
       "      <td>Antonio Gramsci</td>\n",
       "      <td>Philosophy</td>\n",
       "      <td>http://books.google.com/books/content?id=nl_bJ...</td>\n",
       "      <td>with a new introduction by ERIC J. HOBSBAWM \"V...</td>\n",
       "      <td>2000.0</td>\n",
       "      <td>4.28</td>\n",
       "      <td>447.0</td>\n",
       "      <td>499.0</td>\n",
       "      <td>0</td>\n",
       "      <td>25.0</td>\n",
       "      <td>218</td>\n",
       "      <td>The Gramsci Reader: Selected Writings, 1916-1935</td>\n",
       "      <td>9780814727010 with a new introduction by ERIC ...</td>\n",
       "    </tr>\n",
       "  </tbody>\n",
       "</table>\n",
       "</div>"
      ],
      "text/plain": [
       "             isbn13      isbn10               title  \\\n",
       "5250  9780814727010  0814727018  The Gramsci Reader   \n",
       "\n",
       "                          subtitle          authors  categories  \\\n",
       "5250  Selected Writings, 1916-1935  Antonio Gramsci  Philosophy   \n",
       "\n",
       "                                              thumbnail  \\\n",
       "5250  http://books.google.com/books/content?id=nl_bJ...   \n",
       "\n",
       "                                            description  published_year  \\\n",
       "5250  with a new introduction by ERIC J. HOBSBAWM \"V...          2000.0   \n",
       "\n",
       "      average_rating  num_pages  ratings_count  missing_description  \\\n",
       "5250            4.28      447.0          499.0                    0   \n",
       "\n",
       "      age_of_book  words_in_description  \\\n",
       "5250         25.0                   218   \n",
       "\n",
       "                                    title_and_subtitle  \\\n",
       "5250  The Gramsci Reader: Selected Writings, 1916-1935   \n",
       "\n",
       "                                     tagged_description  \n",
       "5250  9780814727010 with a new introduction by ERIC ...  "
      ]
     },
     "execution_count": 32,
     "metadata": {},
     "output_type": "execute_result"
    }
   ],
   "source": [
    "book_missing_25_words.sample()"
   ]
  },
  {
   "cell_type": "markdown",
   "id": "663bbf3c",
   "metadata": {},
   "source": [
    "#### Save the cleaned dataset to a file"
   ]
  },
  {
   "cell_type": "code",
   "execution_count": 33,
   "id": "31fc7c17",
   "metadata": {},
   "outputs": [],
   "source": [
    "(\n",
    "    book_missing_25_words\n",
    "    .drop([\"subtitle\", \"missing_description\", \"age_of_book\", \"words_in_description\"], axis =1)\n",
    "    .to_csv(\"../data/books_cleaned.csv\", index=False)\n",
    ")"
   ]
  }
 ],
 "metadata": {
  "kernelspec": {
   "display_name": "book-recommender",
   "language": "python",
   "name": "python3"
  },
  "language_info": {
   "codemirror_mode": {
    "name": "ipython",
    "version": 3
   },
   "file_extension": ".py",
   "mimetype": "text/x-python",
   "name": "python",
   "nbconvert_exporter": "python",
   "pygments_lexer": "ipython3",
   "version": "3.13.5"
  }
 },
 "nbformat": 4,
 "nbformat_minor": 5
}
